{
 "cells": [
  {
   "cell_type": "code",
   "execution_count": 1,
   "metadata": {
    "tags": []
   },
   "outputs": [
    {
     "name": "stderr",
     "output_type": "stream",
     "text": [
      "Warning message:\n",
      "“Failed to locate timezone database”\n",
      "── \u001b[1mAttaching core tidyverse packages\u001b[22m ──────────────────────── tidyverse 2.0.0 ──\n",
      "\u001b[32m✔\u001b[39m \u001b[34mdplyr    \u001b[39m 1.1.3     \u001b[32m✔\u001b[39m \u001b[34mreadr    \u001b[39m 2.1.4\n",
      "\u001b[32m✔\u001b[39m \u001b[34mforcats  \u001b[39m 1.0.0     \u001b[32m✔\u001b[39m \u001b[34mstringr  \u001b[39m 1.5.0\n",
      "\u001b[32m✔\u001b[39m \u001b[34mggplot2  \u001b[39m 3.4.3     \u001b[32m✔\u001b[39m \u001b[34mtibble   \u001b[39m 3.2.1\n",
      "\u001b[32m✔\u001b[39m \u001b[34mlubridate\u001b[39m 1.9.2     \u001b[32m✔\u001b[39m \u001b[34mtidyr    \u001b[39m 1.3.0\n",
      "\u001b[32m✔\u001b[39m \u001b[34mpurrr    \u001b[39m 1.0.2     \n",
      "── \u001b[1mConflicts\u001b[22m ────────────────────────────────────────── tidyverse_conflicts() ──\n",
      "\u001b[31m✖\u001b[39m \u001b[34mdplyr\u001b[39m::\u001b[32mfilter()\u001b[39m masks \u001b[34mstats\u001b[39m::filter()\n",
      "\u001b[31m✖\u001b[39m \u001b[34mdplyr\u001b[39m::\u001b[32mlag()\u001b[39m    masks \u001b[34mstats\u001b[39m::lag()\n",
      "\u001b[36mℹ\u001b[39m Use the conflicted package (\u001b[3m\u001b[34m<http://conflicted.r-lib.org/>\u001b[39m\u001b[23m) to force all conflicts to become errors\n"
     ]
    }
   ],
   "source": [
    "library('tidyverse')"
   ]
  },
  {
   "cell_type": "markdown",
   "metadata": {},
   "source": [
    "This is the data we'll use:"
   ]
  },
  {
   "cell_type": "code",
   "execution_count": 2,
   "metadata": {
    "tags": []
   },
   "outputs": [
    {
     "data": {
      "text/html": [
       "<table class=\"dataframe\">\n",
       "<caption>A data.frame: 6 × 7</caption>\n",
       "<thead>\n",
       "\t<tr><th></th><th scope=col>year</th><th scope=col>name</th><th scope=col>country</th><th scope=col>time</th><th scope=col>race.time</th><th scope=col>MF</th><th scope=col>country.simple</th></tr>\n",
       "\t<tr><th></th><th scope=col>&lt;int&gt;</th><th scope=col>&lt;chr&gt;</th><th scope=col>&lt;chr&gt;</th><th scope=col>&lt;chr&gt;</th><th scope=col>&lt;dbl&gt;</th><th scope=col>&lt;chr&gt;</th><th scope=col>&lt;chr&gt;</th></tr>\n",
       "</thead>\n",
       "<tbody>\n",
       "\t<tr><th scope=row>1</th><td>2019</td><td>Lawrence Cherono          </td><td>Kenya        </td><td>2H 7M 57S </td><td>2.132500</td><td>Men's</td><td>Kenya        </td></tr>\n",
       "\t<tr><th scope=row>2</th><td>2018</td><td>Yuki Kawauchi             </td><td>Japan        </td><td>2H 15M 58S</td><td>2.266111</td><td>Men's</td><td>Japan        </td></tr>\n",
       "\t<tr><th scope=row>3</th><td>2017</td><td>Geoffrey Kirui            </td><td>Kenya        </td><td>2H 9M 37S </td><td>2.160278</td><td>Men's</td><td>Kenya        </td></tr>\n",
       "\t<tr><th scope=row>4</th><td>2016</td><td>Lemi Berhanu              </td><td>Ethiopia     </td><td>2H 12M 45S</td><td>2.212500</td><td>Men's</td><td>Ethiopia     </td></tr>\n",
       "\t<tr><th scope=row>5</th><td>2015</td><td>Lelisa Desisa             </td><td>Ethiopia     </td><td>2H 9M 17S </td><td>2.154722</td><td>Men's</td><td>Ethiopia     </td></tr>\n",
       "\t<tr><th scope=row>6</th><td>2014</td><td>Mebrahtom \"Meb\" Keflezighi</td><td>United States</td><td>2H 8M 37S </td><td>2.143611</td><td>Men's</td><td>United States</td></tr>\n",
       "</tbody>\n",
       "</table>\n"
      ],
      "text/latex": [
       "A data.frame: 6 × 7\n",
       "\\begin{tabular}{r|lllllll}\n",
       "  & year & name & country & time & race.time & MF & country.simple\\\\\n",
       "  & <int> & <chr> & <chr> & <chr> & <dbl> & <chr> & <chr>\\\\\n",
       "\\hline\n",
       "\t1 & 2019 & Lawrence Cherono           & Kenya         & 2H 7M 57S  & 2.132500 & Men's & Kenya        \\\\\n",
       "\t2 & 2018 & Yuki Kawauchi              & Japan         & 2H 15M 58S & 2.266111 & Men's & Japan        \\\\\n",
       "\t3 & 2017 & Geoffrey Kirui             & Kenya         & 2H 9M 37S  & 2.160278 & Men's & Kenya        \\\\\n",
       "\t4 & 2016 & Lemi Berhanu               & Ethiopia      & 2H 12M 45S & 2.212500 & Men's & Ethiopia     \\\\\n",
       "\t5 & 2015 & Lelisa Desisa              & Ethiopia      & 2H 9M 17S  & 2.154722 & Men's & Ethiopia     \\\\\n",
       "\t6 & 2014 & Mebrahtom \"Meb\" Keflezighi & United States & 2H 8M 37S  & 2.143611 & Men's & United States\\\\\n",
       "\\end{tabular}\n"
      ],
      "text/markdown": [
       "\n",
       "A data.frame: 6 × 7\n",
       "\n",
       "| <!--/--> | year &lt;int&gt; | name &lt;chr&gt; | country &lt;chr&gt; | time &lt;chr&gt; | race.time &lt;dbl&gt; | MF &lt;chr&gt; | country.simple &lt;chr&gt; |\n",
       "|---|---|---|---|---|---|---|---|\n",
       "| 1 | 2019 | Lawrence Cherono           | Kenya         | 2H 7M 57S  | 2.132500 | Men's | Kenya         |\n",
       "| 2 | 2018 | Yuki Kawauchi              | Japan         | 2H 15M 58S | 2.266111 | Men's | Japan         |\n",
       "| 3 | 2017 | Geoffrey Kirui             | Kenya         | 2H 9M 37S  | 2.160278 | Men's | Kenya         |\n",
       "| 4 | 2016 | Lemi Berhanu               | Ethiopia      | 2H 12M 45S | 2.212500 | Men's | Ethiopia      |\n",
       "| 5 | 2015 | Lelisa Desisa              | Ethiopia      | 2H 9M 17S  | 2.154722 | Men's | Ethiopia      |\n",
       "| 6 | 2014 | Mebrahtom \"Meb\" Keflezighi | United States | 2H 8M 37S  | 2.143611 | Men's | United States |\n",
       "\n"
      ],
      "text/plain": [
       "  year name                       country       time       race.time MF   \n",
       "1 2019 Lawrence Cherono           Kenya         2H 7M 57S  2.132500  Men's\n",
       "2 2018 Yuki Kawauchi              Japan         2H 15M 58S 2.266111  Men's\n",
       "3 2017 Geoffrey Kirui             Kenya         2H 9M 37S  2.160278  Men's\n",
       "4 2016 Lemi Berhanu               Ethiopia      2H 12M 45S 2.212500  Men's\n",
       "5 2015 Lelisa Desisa              Ethiopia      2H 9M 17S  2.154722  Men's\n",
       "6 2014 Mebrahtom \"Meb\" Keflezighi United States 2H 8M 37S  2.143611  Men's\n",
       "  country.simple\n",
       "1 Kenya         \n",
       "2 Japan         \n",
       "3 Kenya         \n",
       "4 Ethiopia      \n",
       "5 Ethiopia      \n",
       "6 United States "
      ]
     },
     "metadata": {},
     "output_type": "display_data"
    }
   ],
   "source": [
    "df.marathon = read.csv('../data//marathon.csv')\n",
    "df.marathon |> head()"
   ]
  },
  {
   "cell_type": "markdown",
   "metadata": {},
   "source": [
    "What's the best race time? (*Hint: use `summarize` with the `min` function*)"
   ]
  },
  {
   "cell_type": "code",
   "execution_count": 3,
   "metadata": {
    "tags": []
   },
   "outputs": [
    {
     "data": {
      "text/html": [
       "<table class=\"dataframe\">\n",
       "<caption>A data.frame: 1 × 1</caption>\n",
       "<thead>\n",
       "\t<tr><th scope=col>best_time</th></tr>\n",
       "\t<tr><th scope=col>&lt;dbl&gt;</th></tr>\n",
       "</thead>\n",
       "<tbody>\n",
       "\t<tr><td>2.050556</td></tr>\n",
       "</tbody>\n",
       "</table>\n"
      ],
      "text/latex": [
       "A data.frame: 1 × 1\n",
       "\\begin{tabular}{l}\n",
       " best\\_time\\\\\n",
       " <dbl>\\\\\n",
       "\\hline\n",
       "\t 2.050556\\\\\n",
       "\\end{tabular}\n"
      ],
      "text/markdown": [
       "\n",
       "A data.frame: 1 × 1\n",
       "\n",
       "| best_time &lt;dbl&gt; |\n",
       "|---|\n",
       "| 2.050556 |\n",
       "\n"
      ],
      "text/plain": [
       "  best_time\n",
       "1 2.050556 "
      ]
     },
     "metadata": {},
     "output_type": "display_data"
    }
   ],
   "source": [
    "df.marathon |>\n",
    "    summarize(best_time = min(race.time))"
   ]
  },
  {
   "cell_type": "markdown",
   "metadata": {},
   "source": [
    "What's the best race time for the men and women?"
   ]
  },
  {
   "cell_type": "code",
   "execution_count": 13,
   "metadata": {
    "tags": []
   },
   "outputs": [
    {
     "data": {
      "text/html": [
       "<table class=\"dataframe\">\n",
       "<caption>A data.frame: 1 × 7</caption>\n",
       "<thead>\n",
       "\t<tr><th scope=col>year</th><th scope=col>name</th><th scope=col>country</th><th scope=col>time</th><th scope=col>race.time</th><th scope=col>MF</th><th scope=col>country.simple</th></tr>\n",
       "\t<tr><th scope=col>&lt;int&gt;</th><th scope=col>&lt;chr&gt;</th><th scope=col>&lt;chr&gt;</th><th scope=col>&lt;chr&gt;</th><th scope=col>&lt;dbl&gt;</th><th scope=col>&lt;chr&gt;</th><th scope=col>&lt;chr&gt;</th></tr>\n",
       "</thead>\n",
       "<tbody>\n",
       "\t<tr><td>1972</td><td>Nina Kuscsik</td><td>United States</td><td>3H 10M 26S</td><td>3.173889</td><td>Women's</td><td>United States</td></tr>\n",
       "</tbody>\n",
       "</table>\n"
      ],
      "text/latex": [
       "A data.frame: 1 × 7\n",
       "\\begin{tabular}{lllllll}\n",
       " year & name & country & time & race.time & MF & country.simple\\\\\n",
       " <int> & <chr> & <chr> & <chr> & <dbl> & <chr> & <chr>\\\\\n",
       "\\hline\n",
       "\t 1972 & Nina Kuscsik & United States & 3H 10M 26S & 3.173889 & Women's & United States\\\\\n",
       "\\end{tabular}\n"
      ],
      "text/markdown": [
       "\n",
       "A data.frame: 1 × 7\n",
       "\n",
       "| year &lt;int&gt; | name &lt;chr&gt; | country &lt;chr&gt; | time &lt;chr&gt; | race.time &lt;dbl&gt; | MF &lt;chr&gt; | country.simple &lt;chr&gt; |\n",
       "|---|---|---|---|---|---|---|\n",
       "| 1972 | Nina Kuscsik | United States | 3H 10M 26S | 3.173889 | Women's | United States |\n",
       "\n"
      ],
      "text/plain": [
       "  year name         country       time       race.time MF      country.simple\n",
       "1 1972 Nina Kuscsik United States 3H 10M 26S 3.173889  Women's United States "
      ]
     },
     "metadata": {},
     "output_type": "display_data"
    }
   ],
   "source": [
    "df.marathon |> top_n(n=1, wt=race.time)"
   ]
  },
  {
   "cell_type": "code",
   "execution_count": 5,
   "metadata": {
    "tags": []
   },
   "outputs": [
    {
     "data": {
      "text/html": [
       "<table class=\"dataframe\">\n",
       "<caption>A tibble: 2 × 2</caption>\n",
       "<thead>\n",
       "\t<tr><th scope=col>MF</th><th scope=col>best_time</th></tr>\n",
       "\t<tr><th scope=col>&lt;chr&gt;</th><th scope=col>&lt;dbl&gt;</th></tr>\n",
       "</thead>\n",
       "<tbody>\n",
       "\t<tr><td>Men's  </td><td>2.050556</td></tr>\n",
       "\t<tr><td>Women's</td><td>2.333056</td></tr>\n",
       "</tbody>\n",
       "</table>\n"
      ],
      "text/latex": [
       "A tibble: 2 × 2\n",
       "\\begin{tabular}{ll}\n",
       " MF & best\\_time\\\\\n",
       " <chr> & <dbl>\\\\\n",
       "\\hline\n",
       "\t Men's   & 2.050556\\\\\n",
       "\t Women's & 2.333056\\\\\n",
       "\\end{tabular}\n"
      ],
      "text/markdown": [
       "\n",
       "A tibble: 2 × 2\n",
       "\n",
       "| MF &lt;chr&gt; | best_time &lt;dbl&gt; |\n",
       "|---|---|\n",
       "| Men's   | 2.050556 |\n",
       "| Women's | 2.333056 |\n",
       "\n"
      ],
      "text/plain": [
       "  MF      best_time\n",
       "1 Men's   2.050556 \n",
       "2 Women's 2.333056 "
      ]
     },
     "metadata": {},
     "output_type": "display_data"
    }
   ],
   "source": [
    "df.marathon |>\n",
    "    group_by(MF) |>\n",
    "    summarize(best_time = min(race.time))"
   ]
  },
  {
   "cell_type": "markdown",
   "metadata": {},
   "source": [
    "What's the median race time for the US women? (*Hint: use `|> filter(country == \"United States\")` to filter the data to just the US*)"
   ]
  },
  {
   "cell_type": "code",
   "execution_count": 22,
   "metadata": {
    "tags": []
   },
   "outputs": [
    {
     "data": {
      "text/html": [
       "<table class=\"dataframe\">\n",
       "<caption>A tibble: 1 × 2</caption>\n",
       "<thead>\n",
       "\t<tr><th scope=col>MF</th><th scope=col>median_time</th></tr>\n",
       "\t<tr><th scope=col>&lt;chr&gt;</th><th scope=col>&lt;dbl&gt;</th></tr>\n",
       "</thead>\n",
       "<tbody>\n",
       "\t<tr><td>Women's</td><td>2.766944</td></tr>\n",
       "</tbody>\n",
       "</table>\n"
      ],
      "text/latex": [
       "A tibble: 1 × 2\n",
       "\\begin{tabular}{ll}\n",
       " MF & median\\_time\\\\\n",
       " <chr> & <dbl>\\\\\n",
       "\\hline\n",
       "\t Women's & 2.766944\\\\\n",
       "\\end{tabular}\n"
      ],
      "text/markdown": [
       "\n",
       "A tibble: 1 × 2\n",
       "\n",
       "| MF &lt;chr&gt; | median_time &lt;dbl&gt; |\n",
       "|---|---|\n",
       "| Women's | 2.766944 |\n",
       "\n"
      ],
      "text/plain": [
       "  MF      median_time\n",
       "1 Women's 2.766944   "
      ]
     },
     "metadata": {},
     "output_type": "display_data"
    }
   ],
   "source": [
    "df.marathon |>\n",
    "    group_by(MF) |>\n",
    "    filter(country == \"United States\", MF == \"Women's\") |>\n",
    "    summarize(median_time = median(race.time))"
   ]
  },
  {
   "cell_type": "markdown",
   "metadata": {},
   "source": [
    "What's the median race time for the Kenyan men? (*Hint: use `|> filter(country == \"Kenya\")` to filter the data to just Kenya*)"
   ]
  },
  {
   "cell_type": "code",
   "execution_count": 29,
   "metadata": {
    "tags": []
   },
   "outputs": [
    {
     "data": {
      "text/html": [
       "<table class=\"dataframe\">\n",
       "<caption>A tibble: 2 × 2</caption>\n",
       "<thead>\n",
       "\t<tr><th scope=col>MF</th><th scope=col>median_time</th></tr>\n",
       "\t<tr><th scope=col>&lt;chr&gt;</th><th scope=col>&lt;dbl&gt;</th></tr>\n",
       "</thead>\n",
       "<tbody>\n",
       "\t<tr><td>Men's  </td><td>2.155139</td></tr>\n",
       "\t<tr><td>Women's</td><td>2.411389</td></tr>\n",
       "</tbody>\n",
       "</table>\n"
      ],
      "text/latex": [
       "A tibble: 2 × 2\n",
       "\\begin{tabular}{ll}\n",
       " MF & median\\_time\\\\\n",
       " <chr> & <dbl>\\\\\n",
       "\\hline\n",
       "\t Men's   & 2.155139\\\\\n",
       "\t Women's & 2.411389\\\\\n",
       "\\end{tabular}\n"
      ],
      "text/markdown": [
       "\n",
       "A tibble: 2 × 2\n",
       "\n",
       "| MF &lt;chr&gt; | median_time &lt;dbl&gt; |\n",
       "|---|---|\n",
       "| Men's   | 2.155139 |\n",
       "| Women's | 2.411389 |\n",
       "\n"
      ],
      "text/plain": [
       "  MF      median_time\n",
       "1 Men's   2.155139   \n",
       "2 Women's 2.411389   "
      ]
     },
     "metadata": {},
     "output_type": "display_data"
    }
   ],
   "source": [
    "df.marathon |>\n",
    "    group_by(MF) |>\n",
    "    filter(country == \"Kenya\") |>\n",
    "    summarize(median_time = median(race.time))"
   ]
  },
  {
   "cell_type": "markdown",
   "metadata": {},
   "source": [
    "How many winners have there been for the US and Kenya?"
   ]
  },
  {
   "cell_type": "code",
   "execution_count": 34,
   "metadata": {
    "tags": []
   },
   "outputs": [
    {
     "ename": "ERROR",
     "evalue": "Error in parse(text = x, srcfile = src): <text>:9:0: unexpected end of input\n7:     #summarize(total_winners = sum(n))\n8:     mutate(total_winners = sum(n), n_frac = n / total_winners_by_country\n  ^\n",
     "output_type": "error",
     "traceback": [
      "Error in parse(text = x, srcfile = src): <text>:9:0: unexpected end of input\n7:     #summarize(total_winners = sum(n))\n8:     mutate(total_winners = sum(n), n_frac = n / total_winners_by_country\n  ^\nTraceback:\n"
     ]
    }
   ],
   "source": [
    "df.marathon |>\n",
    "    filter(country %in% c(\"United States\", \"Kenya\")) |>\n",
    "    #count(country)\n",
    "    group_by(country, MF) |>\n",
    "    summarize(n=n()) |>\n",
    "    group_by(country) |>\n",
    "    #summarize(total_winners = sum(n))\n",
    "    mutate(total_winners = sum(n), n_frac = n / total_winners_by_country"
   ]
  },
  {
   "cell_type": "code",
   "execution_count": 26,
   "metadata": {
    "tags": []
   },
   "outputs": [
    {
     "data": {
      "text/html": [
       "<table class=\"dataframe\">\n",
       "<caption>A data.frame: 88 × 7</caption>\n",
       "<thead>\n",
       "\t<tr><th scope=col>year</th><th scope=col>name</th><th scope=col>country</th><th scope=col>time</th><th scope=col>race.time</th><th scope=col>MF</th><th scope=col>country.simple</th></tr>\n",
       "\t<tr><th scope=col>&lt;int&gt;</th><th scope=col>&lt;chr&gt;</th><th scope=col>&lt;chr&gt;</th><th scope=col>&lt;chr&gt;</th><th scope=col>&lt;dbl&gt;</th><th scope=col>&lt;chr&gt;</th><th scope=col>&lt;chr&gt;</th></tr>\n",
       "</thead>\n",
       "<tbody>\n",
       "\t<tr><td>2019</td><td>Lawrence Cherono          </td><td>Kenya        </td><td>2H 7M 57S </td><td>2.132500</td><td>Men's</td><td>Kenya        </td></tr>\n",
       "\t<tr><td>2017</td><td>Geoffrey Kirui            </td><td>Kenya        </td><td>2H 9M 37S </td><td>2.160278</td><td>Men's</td><td>Kenya        </td></tr>\n",
       "\t<tr><td>2014</td><td>Mebrahtom \"Meb\" Keflezighi</td><td>United States</td><td>2H 8M 37S </td><td>2.143611</td><td>Men's</td><td>United States</td></tr>\n",
       "\t<tr><td>2012</td><td>Wesley Korir              </td><td>Kenya        </td><td>2H 12M 40S</td><td>2.211111</td><td>Men's</td><td>Kenya        </td></tr>\n",
       "\t<tr><td>2011</td><td>Geoffrey Mutai            </td><td>Kenya        </td><td>2H 3M 2S  </td><td>2.050556</td><td>Men's</td><td>Kenya        </td></tr>\n",
       "\t<tr><td>2010</td><td>Robert Kiprono Cheruiyot  </td><td>Kenya        </td><td>2H 5M 52S </td><td>2.097778</td><td>Men's</td><td>Kenya        </td></tr>\n",
       "\t<tr><td>2008</td><td>Robert Kipkoech Cheruiyot </td><td>Kenya        </td><td>2H 7M 46S </td><td>2.129444</td><td>Men's</td><td>Kenya        </td></tr>\n",
       "\t<tr><td>2007</td><td>Robert Kipkoech Cheruiyot </td><td>Kenya        </td><td>2H 14M 13S</td><td>2.236944</td><td>Men's</td><td>Kenya        </td></tr>\n",
       "\t<tr><td>2006</td><td>Robert Kipkoech Cheruiyot </td><td>Kenya        </td><td>2H 7M 14S </td><td>2.120556</td><td>Men's</td><td>Kenya        </td></tr>\n",
       "\t<tr><td>2004</td><td>Timothy Cherigat          </td><td>Kenya        </td><td>2H 10M 37S</td><td>2.176944</td><td>Men's</td><td>Kenya        </td></tr>\n",
       "\t<tr><td>2003</td><td>Robert Kipkoech Cheruiyot </td><td>Kenya        </td><td>2H 10M 11S</td><td>2.169722</td><td>Men's</td><td>Kenya        </td></tr>\n",
       "\t<tr><td>2002</td><td>Rodgers Rop               </td><td>Kenya        </td><td>2H 9M 2S  </td><td>2.150556</td><td>Men's</td><td>Kenya        </td></tr>\n",
       "\t<tr><td>2000</td><td>Elijah Lagat              </td><td>Kenya        </td><td>2H 9M 47S </td><td>2.163056</td><td>Men's</td><td>Kenya        </td></tr>\n",
       "\t<tr><td>1999</td><td>Joseph Chebet             </td><td>Kenya        </td><td>2H 9M 52S </td><td>2.164444</td><td>Men's</td><td>Kenya        </td></tr>\n",
       "\t<tr><td>1998</td><td>Moses Tanui               </td><td>Kenya        </td><td>2H 7M 34S </td><td>2.126111</td><td>Men's</td><td>Kenya        </td></tr>\n",
       "\t<tr><td>1997</td><td>Lameck Aguta              </td><td>Kenya        </td><td>2H 10M 34S</td><td>2.176111</td><td>Men's</td><td>Kenya        </td></tr>\n",
       "\t<tr><td>1996</td><td>Moses Tanui               </td><td>Kenya        </td><td>2H 9M 15S </td><td>2.154167</td><td>Men's</td><td>Kenya        </td></tr>\n",
       "\t<tr><td>1995</td><td>Cosmas Ndeti              </td><td>Kenya        </td><td>2H 9M 22S </td><td>2.156111</td><td>Men's</td><td>Kenya        </td></tr>\n",
       "\t<tr><td>1994</td><td>Cosmas Ndeti              </td><td>Kenya        </td><td>2H 7M 15S </td><td>2.120833</td><td>Men's</td><td>Kenya        </td></tr>\n",
       "\t<tr><td>1993</td><td>Cosmas Ndeti              </td><td>Kenya        </td><td>2H 9M 33S </td><td>2.159167</td><td>Men's</td><td>Kenya        </td></tr>\n",
       "\t<tr><td>1992</td><td>Ibrahim Hussein           </td><td>Kenya        </td><td>2H 8M 14S </td><td>2.137222</td><td>Men's</td><td>Kenya        </td></tr>\n",
       "\t<tr><td>1991</td><td>Ibrahim Hussein           </td><td>Kenya        </td><td>2H 11M 6S </td><td>2.185000</td><td>Men's</td><td>Kenya        </td></tr>\n",
       "\t<tr><td>1988</td><td>Ibrahim Hussein           </td><td>Kenya        </td><td>2H 8M 43S </td><td>2.145278</td><td>Men's</td><td>Kenya        </td></tr>\n",
       "\t<tr><td>1983</td><td>Greg A. Meyer             </td><td>United States</td><td>2H 9M 0S  </td><td>2.150000</td><td>Men's</td><td>United States</td></tr>\n",
       "\t<tr><td>1982</td><td>Alberto Salazar           </td><td>United States</td><td>2H 8M 52S </td><td>2.147778</td><td>Men's</td><td>United States</td></tr>\n",
       "\t<tr><td>1980</td><td>Bill Rodgers              </td><td>United States</td><td>2H 12M 11S</td><td>2.203056</td><td>Men's</td><td>United States</td></tr>\n",
       "\t<tr><td>1979</td><td>Bill Rodgers              </td><td>United States</td><td>2H 9M 27S </td><td>2.157500</td><td>Men's</td><td>United States</td></tr>\n",
       "\t<tr><td>1978</td><td>Bill Rodgers              </td><td>United States</td><td>2H 10M 13S</td><td>2.170278</td><td>Men's</td><td>United States</td></tr>\n",
       "\t<tr><td>1976</td><td>Jack Fultz                </td><td>United States</td><td>2H 20M 19S</td><td>2.338611</td><td>Men's</td><td>United States</td></tr>\n",
       "\t<tr><td>1975</td><td>Bill Rodgers              </td><td>United States</td><td>2H 9M 55S </td><td>2.165278</td><td>Men's</td><td>United States</td></tr>\n",
       "\t<tr><td>⋮</td><td>⋮</td><td>⋮</td><td>⋮</td><td>⋮</td><td>⋮</td><td>⋮</td></tr>\n",
       "\t<tr><td>1908</td><td>Thomas P. Morrissey   </td><td>United States</td><td>2H 25M 43S</td><td>2.428611</td><td>Men's  </td><td>United States</td></tr>\n",
       "\t<tr><td>1906</td><td>Timothy Ford          </td><td>United States</td><td>2H 45M 45S</td><td>2.762500</td><td>Men's  </td><td>United States</td></tr>\n",
       "\t<tr><td>1905</td><td>Frederick Lorz        </td><td>United States</td><td>2H 38M 25S</td><td>2.640278</td><td>Men's  </td><td>United States</td></tr>\n",
       "\t<tr><td>1904</td><td>Michael Spring        </td><td>United States</td><td>2H 38M 4S </td><td>2.634444</td><td>Men's  </td><td>United States</td></tr>\n",
       "\t<tr><td>1903</td><td>John C. Lorden        </td><td>United States</td><td>2H 41M 29S</td><td>2.691389</td><td>Men's  </td><td>United States</td></tr>\n",
       "\t<tr><td>1902</td><td>Sammy A. Mellor       </td><td>United States</td><td>2H 43M 12S</td><td>2.720000</td><td>Men's  </td><td>United States</td></tr>\n",
       "\t<tr><td>1899</td><td>Lawrence Brignolia    </td><td>United States</td><td>2H 54M 38S</td><td>2.910556</td><td>Men's  </td><td>United States</td></tr>\n",
       "\t<tr><td>1897</td><td>John J. McDermott     </td><td>United States</td><td>2H 55M 10S</td><td>2.919444</td><td>Men's  </td><td>United States</td></tr>\n",
       "\t<tr><td>2018</td><td>Desiree Linden        </td><td>United States</td><td>2H 39M 54S</td><td>2.665000</td><td>Women's</td><td>United States</td></tr>\n",
       "\t<tr><td>2017</td><td>Edna Kiplagat         </td><td>Kenya        </td><td>2H 21M 52S</td><td>2.364444</td><td>Women's</td><td>Kenya        </td></tr>\n",
       "\t<tr><td>2015</td><td>Caroline Rotich       </td><td>Kenya        </td><td>2H 24M 55S</td><td>2.415278</td><td>Women's</td><td>Kenya        </td></tr>\n",
       "\t<tr><td>2013</td><td>Rita Jeptoo           </td><td>Kenya        </td><td>2H 26M 25S</td><td>2.440278</td><td>Women's</td><td>Kenya        </td></tr>\n",
       "\t<tr><td>2012</td><td>Sharon Cherop         </td><td>Kenya        </td><td>2H 31M 50S</td><td>2.530556</td><td>Women's</td><td>Kenya        </td></tr>\n",
       "\t<tr><td>2011</td><td>Caroline Kilel        </td><td>Kenya        </td><td>2H 22M 36S</td><td>2.376667</td><td>Women's</td><td>Kenya        </td></tr>\n",
       "\t<tr><td>2009</td><td>Salina Kosgei         </td><td>Kenya        </td><td>2H 32M 16S</td><td>2.537778</td><td>Women's</td><td>Kenya        </td></tr>\n",
       "\t<tr><td>2006</td><td>Rita Jeptoo           </td><td>Kenya        </td><td>2H 23M 38S</td><td>2.393889</td><td>Women's</td><td>Kenya        </td></tr>\n",
       "\t<tr><td>2005</td><td>Catherine Ndereba     </td><td>Kenya        </td><td>2H 25M 13S</td><td>2.420278</td><td>Women's</td><td>Kenya        </td></tr>\n",
       "\t<tr><td>2004</td><td>Catherine Ndereba     </td><td>Kenya        </td><td>2H 24M 27S</td><td>2.407500</td><td>Women's</td><td>Kenya        </td></tr>\n",
       "\t<tr><td>2002</td><td>Margaret Okayo        </td><td>Kenya        </td><td>2H 20M 43S</td><td>2.345278</td><td>Women's</td><td>Kenya        </td></tr>\n",
       "\t<tr><td>2001</td><td>Catherine Ndereba     </td><td>Kenya        </td><td>2H 23M 53S</td><td>2.398056</td><td>Women's</td><td>Kenya        </td></tr>\n",
       "\t<tr><td>2000</td><td>Catherine Ndereba     </td><td>Kenya        </td><td>2H 26M 11S</td><td>2.436389</td><td>Women's</td><td>Kenya        </td></tr>\n",
       "\t<tr><td>1985</td><td>Lisa Larsen-Weidenbach</td><td>United States</td><td>2H 34M 6S </td><td>2.568333</td><td>Women's</td><td>United States</td></tr>\n",
       "\t<tr><td>1983</td><td>Joan Benoit           </td><td>United States</td><td>2H 22M 43S</td><td>2.378611</td><td>Women's</td><td>United States</td></tr>\n",
       "\t<tr><td>1979</td><td>Joan Benoit           </td><td>United States</td><td>2H 35M 15S</td><td>2.587500</td><td>Women's</td><td>United States</td></tr>\n",
       "\t<tr><td>1978</td><td>Gayle S. Barron       </td><td>United States</td><td>2H 44M 52S</td><td>2.747778</td><td>Women's</td><td>United States</td></tr>\n",
       "\t<tr><td>1977</td><td>Michiko (Miki) Gorman </td><td>United States</td><td>2H 48M 33S</td><td>2.809167</td><td>Women's</td><td>United States</td></tr>\n",
       "\t<tr><td>1976</td><td>Kim Merritt           </td><td>United States</td><td>2H 47M 10S</td><td>2.786111</td><td>Women's</td><td>United States</td></tr>\n",
       "\t<tr><td>1974</td><td>Michiko (Miki) Gorman </td><td>United States</td><td>2H 47M 11S</td><td>2.786389</td><td>Women's</td><td>United States</td></tr>\n",
       "\t<tr><td>1973</td><td>Jacqueline A. Hansen  </td><td>United States</td><td>3H 5M 59S </td><td>3.099722</td><td>Women's</td><td>United States</td></tr>\n",
       "\t<tr><td>1972</td><td>Nina Kuscsik          </td><td>United States</td><td>3H 10M 26S</td><td>3.173889</td><td>Women's</td><td>United States</td></tr>\n",
       "</tbody>\n",
       "</table>\n"
      ],
      "text/latex": [
       "A data.frame: 88 × 7\n",
       "\\begin{tabular}{lllllll}\n",
       " year & name & country & time & race.time & MF & country.simple\\\\\n",
       " <int> & <chr> & <chr> & <chr> & <dbl> & <chr> & <chr>\\\\\n",
       "\\hline\n",
       "\t 2019 & Lawrence Cherono           & Kenya         & 2H 7M 57S  & 2.132500 & Men's & Kenya        \\\\\n",
       "\t 2017 & Geoffrey Kirui             & Kenya         & 2H 9M 37S  & 2.160278 & Men's & Kenya        \\\\\n",
       "\t 2014 & Mebrahtom \"Meb\" Keflezighi & United States & 2H 8M 37S  & 2.143611 & Men's & United States\\\\\n",
       "\t 2012 & Wesley Korir               & Kenya         & 2H 12M 40S & 2.211111 & Men's & Kenya        \\\\\n",
       "\t 2011 & Geoffrey Mutai             & Kenya         & 2H 3M 2S   & 2.050556 & Men's & Kenya        \\\\\n",
       "\t 2010 & Robert Kiprono Cheruiyot   & Kenya         & 2H 5M 52S  & 2.097778 & Men's & Kenya        \\\\\n",
       "\t 2008 & Robert Kipkoech Cheruiyot  & Kenya         & 2H 7M 46S  & 2.129444 & Men's & Kenya        \\\\\n",
       "\t 2007 & Robert Kipkoech Cheruiyot  & Kenya         & 2H 14M 13S & 2.236944 & Men's & Kenya        \\\\\n",
       "\t 2006 & Robert Kipkoech Cheruiyot  & Kenya         & 2H 7M 14S  & 2.120556 & Men's & Kenya        \\\\\n",
       "\t 2004 & Timothy Cherigat           & Kenya         & 2H 10M 37S & 2.176944 & Men's & Kenya        \\\\\n",
       "\t 2003 & Robert Kipkoech Cheruiyot  & Kenya         & 2H 10M 11S & 2.169722 & Men's & Kenya        \\\\\n",
       "\t 2002 & Rodgers Rop                & Kenya         & 2H 9M 2S   & 2.150556 & Men's & Kenya        \\\\\n",
       "\t 2000 & Elijah Lagat               & Kenya         & 2H 9M 47S  & 2.163056 & Men's & Kenya        \\\\\n",
       "\t 1999 & Joseph Chebet              & Kenya         & 2H 9M 52S  & 2.164444 & Men's & Kenya        \\\\\n",
       "\t 1998 & Moses Tanui                & Kenya         & 2H 7M 34S  & 2.126111 & Men's & Kenya        \\\\\n",
       "\t 1997 & Lameck Aguta               & Kenya         & 2H 10M 34S & 2.176111 & Men's & Kenya        \\\\\n",
       "\t 1996 & Moses Tanui                & Kenya         & 2H 9M 15S  & 2.154167 & Men's & Kenya        \\\\\n",
       "\t 1995 & Cosmas Ndeti               & Kenya         & 2H 9M 22S  & 2.156111 & Men's & Kenya        \\\\\n",
       "\t 1994 & Cosmas Ndeti               & Kenya         & 2H 7M 15S  & 2.120833 & Men's & Kenya        \\\\\n",
       "\t 1993 & Cosmas Ndeti               & Kenya         & 2H 9M 33S  & 2.159167 & Men's & Kenya        \\\\\n",
       "\t 1992 & Ibrahim Hussein            & Kenya         & 2H 8M 14S  & 2.137222 & Men's & Kenya        \\\\\n",
       "\t 1991 & Ibrahim Hussein            & Kenya         & 2H 11M 6S  & 2.185000 & Men's & Kenya        \\\\\n",
       "\t 1988 & Ibrahim Hussein            & Kenya         & 2H 8M 43S  & 2.145278 & Men's & Kenya        \\\\\n",
       "\t 1983 & Greg A. Meyer              & United States & 2H 9M 0S   & 2.150000 & Men's & United States\\\\\n",
       "\t 1982 & Alberto Salazar            & United States & 2H 8M 52S  & 2.147778 & Men's & United States\\\\\n",
       "\t 1980 & Bill Rodgers               & United States & 2H 12M 11S & 2.203056 & Men's & United States\\\\\n",
       "\t 1979 & Bill Rodgers               & United States & 2H 9M 27S  & 2.157500 & Men's & United States\\\\\n",
       "\t 1978 & Bill Rodgers               & United States & 2H 10M 13S & 2.170278 & Men's & United States\\\\\n",
       "\t 1976 & Jack Fultz                 & United States & 2H 20M 19S & 2.338611 & Men's & United States\\\\\n",
       "\t 1975 & Bill Rodgers               & United States & 2H 9M 55S  & 2.165278 & Men's & United States\\\\\n",
       "\t ⋮ & ⋮ & ⋮ & ⋮ & ⋮ & ⋮ & ⋮\\\\\n",
       "\t 1908 & Thomas P. Morrissey    & United States & 2H 25M 43S & 2.428611 & Men's   & United States\\\\\n",
       "\t 1906 & Timothy Ford           & United States & 2H 45M 45S & 2.762500 & Men's   & United States\\\\\n",
       "\t 1905 & Frederick Lorz         & United States & 2H 38M 25S & 2.640278 & Men's   & United States\\\\\n",
       "\t 1904 & Michael Spring         & United States & 2H 38M 4S  & 2.634444 & Men's   & United States\\\\\n",
       "\t 1903 & John C. Lorden         & United States & 2H 41M 29S & 2.691389 & Men's   & United States\\\\\n",
       "\t 1902 & Sammy A. Mellor        & United States & 2H 43M 12S & 2.720000 & Men's   & United States\\\\\n",
       "\t 1899 & Lawrence Brignolia     & United States & 2H 54M 38S & 2.910556 & Men's   & United States\\\\\n",
       "\t 1897 & John J. McDermott      & United States & 2H 55M 10S & 2.919444 & Men's   & United States\\\\\n",
       "\t 2018 & Desiree Linden         & United States & 2H 39M 54S & 2.665000 & Women's & United States\\\\\n",
       "\t 2017 & Edna Kiplagat          & Kenya         & 2H 21M 52S & 2.364444 & Women's & Kenya        \\\\\n",
       "\t 2015 & Caroline Rotich        & Kenya         & 2H 24M 55S & 2.415278 & Women's & Kenya        \\\\\n",
       "\t 2013 & Rita Jeptoo            & Kenya         & 2H 26M 25S & 2.440278 & Women's & Kenya        \\\\\n",
       "\t 2012 & Sharon Cherop          & Kenya         & 2H 31M 50S & 2.530556 & Women's & Kenya        \\\\\n",
       "\t 2011 & Caroline Kilel         & Kenya         & 2H 22M 36S & 2.376667 & Women's & Kenya        \\\\\n",
       "\t 2009 & Salina Kosgei          & Kenya         & 2H 32M 16S & 2.537778 & Women's & Kenya        \\\\\n",
       "\t 2006 & Rita Jeptoo            & Kenya         & 2H 23M 38S & 2.393889 & Women's & Kenya        \\\\\n",
       "\t 2005 & Catherine Ndereba      & Kenya         & 2H 25M 13S & 2.420278 & Women's & Kenya        \\\\\n",
       "\t 2004 & Catherine Ndereba      & Kenya         & 2H 24M 27S & 2.407500 & Women's & Kenya        \\\\\n",
       "\t 2002 & Margaret Okayo         & Kenya         & 2H 20M 43S & 2.345278 & Women's & Kenya        \\\\\n",
       "\t 2001 & Catherine Ndereba      & Kenya         & 2H 23M 53S & 2.398056 & Women's & Kenya        \\\\\n",
       "\t 2000 & Catherine Ndereba      & Kenya         & 2H 26M 11S & 2.436389 & Women's & Kenya        \\\\\n",
       "\t 1985 & Lisa Larsen-Weidenbach & United States & 2H 34M 6S  & 2.568333 & Women's & United States\\\\\n",
       "\t 1983 & Joan Benoit            & United States & 2H 22M 43S & 2.378611 & Women's & United States\\\\\n",
       "\t 1979 & Joan Benoit            & United States & 2H 35M 15S & 2.587500 & Women's & United States\\\\\n",
       "\t 1978 & Gayle S. Barron        & United States & 2H 44M 52S & 2.747778 & Women's & United States\\\\\n",
       "\t 1977 & Michiko (Miki) Gorman  & United States & 2H 48M 33S & 2.809167 & Women's & United States\\\\\n",
       "\t 1976 & Kim Merritt            & United States & 2H 47M 10S & 2.786111 & Women's & United States\\\\\n",
       "\t 1974 & Michiko (Miki) Gorman  & United States & 2H 47M 11S & 2.786389 & Women's & United States\\\\\n",
       "\t 1973 & Jacqueline A. Hansen   & United States & 3H 5M 59S  & 3.099722 & Women's & United States\\\\\n",
       "\t 1972 & Nina Kuscsik           & United States & 3H 10M 26S & 3.173889 & Women's & United States\\\\\n",
       "\\end{tabular}\n"
      ],
      "text/markdown": [
       "\n",
       "A data.frame: 88 × 7\n",
       "\n",
       "| year &lt;int&gt; | name &lt;chr&gt; | country &lt;chr&gt; | time &lt;chr&gt; | race.time &lt;dbl&gt; | MF &lt;chr&gt; | country.simple &lt;chr&gt; |\n",
       "|---|---|---|---|---|---|---|\n",
       "| 2019 | Lawrence Cherono           | Kenya         | 2H 7M 57S  | 2.132500 | Men's | Kenya         |\n",
       "| 2017 | Geoffrey Kirui             | Kenya         | 2H 9M 37S  | 2.160278 | Men's | Kenya         |\n",
       "| 2014 | Mebrahtom \"Meb\" Keflezighi | United States | 2H 8M 37S  | 2.143611 | Men's | United States |\n",
       "| 2012 | Wesley Korir               | Kenya         | 2H 12M 40S | 2.211111 | Men's | Kenya         |\n",
       "| 2011 | Geoffrey Mutai             | Kenya         | 2H 3M 2S   | 2.050556 | Men's | Kenya         |\n",
       "| 2010 | Robert Kiprono Cheruiyot   | Kenya         | 2H 5M 52S  | 2.097778 | Men's | Kenya         |\n",
       "| 2008 | Robert Kipkoech Cheruiyot  | Kenya         | 2H 7M 46S  | 2.129444 | Men's | Kenya         |\n",
       "| 2007 | Robert Kipkoech Cheruiyot  | Kenya         | 2H 14M 13S | 2.236944 | Men's | Kenya         |\n",
       "| 2006 | Robert Kipkoech Cheruiyot  | Kenya         | 2H 7M 14S  | 2.120556 | Men's | Kenya         |\n",
       "| 2004 | Timothy Cherigat           | Kenya         | 2H 10M 37S | 2.176944 | Men's | Kenya         |\n",
       "| 2003 | Robert Kipkoech Cheruiyot  | Kenya         | 2H 10M 11S | 2.169722 | Men's | Kenya         |\n",
       "| 2002 | Rodgers Rop                | Kenya         | 2H 9M 2S   | 2.150556 | Men's | Kenya         |\n",
       "| 2000 | Elijah Lagat               | Kenya         | 2H 9M 47S  | 2.163056 | Men's | Kenya         |\n",
       "| 1999 | Joseph Chebet              | Kenya         | 2H 9M 52S  | 2.164444 | Men's | Kenya         |\n",
       "| 1998 | Moses Tanui                | Kenya         | 2H 7M 34S  | 2.126111 | Men's | Kenya         |\n",
       "| 1997 | Lameck Aguta               | Kenya         | 2H 10M 34S | 2.176111 | Men's | Kenya         |\n",
       "| 1996 | Moses Tanui                | Kenya         | 2H 9M 15S  | 2.154167 | Men's | Kenya         |\n",
       "| 1995 | Cosmas Ndeti               | Kenya         | 2H 9M 22S  | 2.156111 | Men's | Kenya         |\n",
       "| 1994 | Cosmas Ndeti               | Kenya         | 2H 7M 15S  | 2.120833 | Men's | Kenya         |\n",
       "| 1993 | Cosmas Ndeti               | Kenya         | 2H 9M 33S  | 2.159167 | Men's | Kenya         |\n",
       "| 1992 | Ibrahim Hussein            | Kenya         | 2H 8M 14S  | 2.137222 | Men's | Kenya         |\n",
       "| 1991 | Ibrahim Hussein            | Kenya         | 2H 11M 6S  | 2.185000 | Men's | Kenya         |\n",
       "| 1988 | Ibrahim Hussein            | Kenya         | 2H 8M 43S  | 2.145278 | Men's | Kenya         |\n",
       "| 1983 | Greg A. Meyer              | United States | 2H 9M 0S   | 2.150000 | Men's | United States |\n",
       "| 1982 | Alberto Salazar            | United States | 2H 8M 52S  | 2.147778 | Men's | United States |\n",
       "| 1980 | Bill Rodgers               | United States | 2H 12M 11S | 2.203056 | Men's | United States |\n",
       "| 1979 | Bill Rodgers               | United States | 2H 9M 27S  | 2.157500 | Men's | United States |\n",
       "| 1978 | Bill Rodgers               | United States | 2H 10M 13S | 2.170278 | Men's | United States |\n",
       "| 1976 | Jack Fultz                 | United States | 2H 20M 19S | 2.338611 | Men's | United States |\n",
       "| 1975 | Bill Rodgers               | United States | 2H 9M 55S  | 2.165278 | Men's | United States |\n",
       "| ⋮ | ⋮ | ⋮ | ⋮ | ⋮ | ⋮ | ⋮ |\n",
       "| 1908 | Thomas P. Morrissey    | United States | 2H 25M 43S | 2.428611 | Men's   | United States |\n",
       "| 1906 | Timothy Ford           | United States | 2H 45M 45S | 2.762500 | Men's   | United States |\n",
       "| 1905 | Frederick Lorz         | United States | 2H 38M 25S | 2.640278 | Men's   | United States |\n",
       "| 1904 | Michael Spring         | United States | 2H 38M 4S  | 2.634444 | Men's   | United States |\n",
       "| 1903 | John C. Lorden         | United States | 2H 41M 29S | 2.691389 | Men's   | United States |\n",
       "| 1902 | Sammy A. Mellor        | United States | 2H 43M 12S | 2.720000 | Men's   | United States |\n",
       "| 1899 | Lawrence Brignolia     | United States | 2H 54M 38S | 2.910556 | Men's   | United States |\n",
       "| 1897 | John J. McDermott      | United States | 2H 55M 10S | 2.919444 | Men's   | United States |\n",
       "| 2018 | Desiree Linden         | United States | 2H 39M 54S | 2.665000 | Women's | United States |\n",
       "| 2017 | Edna Kiplagat          | Kenya         | 2H 21M 52S | 2.364444 | Women's | Kenya         |\n",
       "| 2015 | Caroline Rotich        | Kenya         | 2H 24M 55S | 2.415278 | Women's | Kenya         |\n",
       "| 2013 | Rita Jeptoo            | Kenya         | 2H 26M 25S | 2.440278 | Women's | Kenya         |\n",
       "| 2012 | Sharon Cherop          | Kenya         | 2H 31M 50S | 2.530556 | Women's | Kenya         |\n",
       "| 2011 | Caroline Kilel         | Kenya         | 2H 22M 36S | 2.376667 | Women's | Kenya         |\n",
       "| 2009 | Salina Kosgei          | Kenya         | 2H 32M 16S | 2.537778 | Women's | Kenya         |\n",
       "| 2006 | Rita Jeptoo            | Kenya         | 2H 23M 38S | 2.393889 | Women's | Kenya         |\n",
       "| 2005 | Catherine Ndereba      | Kenya         | 2H 25M 13S | 2.420278 | Women's | Kenya         |\n",
       "| 2004 | Catherine Ndereba      | Kenya         | 2H 24M 27S | 2.407500 | Women's | Kenya         |\n",
       "| 2002 | Margaret Okayo         | Kenya         | 2H 20M 43S | 2.345278 | Women's | Kenya         |\n",
       "| 2001 | Catherine Ndereba      | Kenya         | 2H 23M 53S | 2.398056 | Women's | Kenya         |\n",
       "| 2000 | Catherine Ndereba      | Kenya         | 2H 26M 11S | 2.436389 | Women's | Kenya         |\n",
       "| 1985 | Lisa Larsen-Weidenbach | United States | 2H 34M 6S  | 2.568333 | Women's | United States |\n",
       "| 1983 | Joan Benoit            | United States | 2H 22M 43S | 2.378611 | Women's | United States |\n",
       "| 1979 | Joan Benoit            | United States | 2H 35M 15S | 2.587500 | Women's | United States |\n",
       "| 1978 | Gayle S. Barron        | United States | 2H 44M 52S | 2.747778 | Women's | United States |\n",
       "| 1977 | Michiko (Miki) Gorman  | United States | 2H 48M 33S | 2.809167 | Women's | United States |\n",
       "| 1976 | Kim Merritt            | United States | 2H 47M 10S | 2.786111 | Women's | United States |\n",
       "| 1974 | Michiko (Miki) Gorman  | United States | 2H 47M 11S | 2.786389 | Women's | United States |\n",
       "| 1973 | Jacqueline A. Hansen   | United States | 3H 5M 59S  | 3.099722 | Women's | United States |\n",
       "| 1972 | Nina Kuscsik           | United States | 3H 10M 26S | 3.173889 | Women's | United States |\n",
       "\n"
      ],
      "text/plain": [
       "   year name                       country       time       race.time MF     \n",
       "1  2019 Lawrence Cherono           Kenya         2H 7M 57S  2.132500  Men's  \n",
       "2  2017 Geoffrey Kirui             Kenya         2H 9M 37S  2.160278  Men's  \n",
       "3  2014 Mebrahtom \"Meb\" Keflezighi United States 2H 8M 37S  2.143611  Men's  \n",
       "4  2012 Wesley Korir               Kenya         2H 12M 40S 2.211111  Men's  \n",
       "5  2011 Geoffrey Mutai             Kenya         2H 3M 2S   2.050556  Men's  \n",
       "6  2010 Robert Kiprono Cheruiyot   Kenya         2H 5M 52S  2.097778  Men's  \n",
       "7  2008 Robert Kipkoech Cheruiyot  Kenya         2H 7M 46S  2.129444  Men's  \n",
       "8  2007 Robert Kipkoech Cheruiyot  Kenya         2H 14M 13S 2.236944  Men's  \n",
       "9  2006 Robert Kipkoech Cheruiyot  Kenya         2H 7M 14S  2.120556  Men's  \n",
       "10 2004 Timothy Cherigat           Kenya         2H 10M 37S 2.176944  Men's  \n",
       "11 2003 Robert Kipkoech Cheruiyot  Kenya         2H 10M 11S 2.169722  Men's  \n",
       "12 2002 Rodgers Rop                Kenya         2H 9M 2S   2.150556  Men's  \n",
       "13 2000 Elijah Lagat               Kenya         2H 9M 47S  2.163056  Men's  \n",
       "14 1999 Joseph Chebet              Kenya         2H 9M 52S  2.164444  Men's  \n",
       "15 1998 Moses Tanui                Kenya         2H 7M 34S  2.126111  Men's  \n",
       "16 1997 Lameck Aguta               Kenya         2H 10M 34S 2.176111  Men's  \n",
       "17 1996 Moses Tanui                Kenya         2H 9M 15S  2.154167  Men's  \n",
       "18 1995 Cosmas Ndeti               Kenya         2H 9M 22S  2.156111  Men's  \n",
       "19 1994 Cosmas Ndeti               Kenya         2H 7M 15S  2.120833  Men's  \n",
       "20 1993 Cosmas Ndeti               Kenya         2H 9M 33S  2.159167  Men's  \n",
       "21 1992 Ibrahim Hussein            Kenya         2H 8M 14S  2.137222  Men's  \n",
       "22 1991 Ibrahim Hussein            Kenya         2H 11M 6S  2.185000  Men's  \n",
       "23 1988 Ibrahim Hussein            Kenya         2H 8M 43S  2.145278  Men's  \n",
       "24 1983 Greg A. Meyer              United States 2H 9M 0S   2.150000  Men's  \n",
       "25 1982 Alberto Salazar            United States 2H 8M 52S  2.147778  Men's  \n",
       "26 1980 Bill Rodgers               United States 2H 12M 11S 2.203056  Men's  \n",
       "27 1979 Bill Rodgers               United States 2H 9M 27S  2.157500  Men's  \n",
       "28 1978 Bill Rodgers               United States 2H 10M 13S 2.170278  Men's  \n",
       "29 1976 Jack Fultz                 United States 2H 20M 19S 2.338611  Men's  \n",
       "30 1975 Bill Rodgers               United States 2H 9M 55S  2.165278  Men's  \n",
       "⋮  ⋮    ⋮                          ⋮             ⋮          ⋮         ⋮      \n",
       "59 1908 Thomas P. Morrissey        United States 2H 25M 43S 2.428611  Men's  \n",
       "60 1906 Timothy Ford               United States 2H 45M 45S 2.762500  Men's  \n",
       "61 1905 Frederick Lorz             United States 2H 38M 25S 2.640278  Men's  \n",
       "62 1904 Michael Spring             United States 2H 38M 4S  2.634444  Men's  \n",
       "63 1903 John C. Lorden             United States 2H 41M 29S 2.691389  Men's  \n",
       "64 1902 Sammy A. Mellor            United States 2H 43M 12S 2.720000  Men's  \n",
       "65 1899 Lawrence Brignolia         United States 2H 54M 38S 2.910556  Men's  \n",
       "66 1897 John J. McDermott          United States 2H 55M 10S 2.919444  Men's  \n",
       "67 2018 Desiree Linden             United States 2H 39M 54S 2.665000  Women's\n",
       "68 2017 Edna Kiplagat              Kenya         2H 21M 52S 2.364444  Women's\n",
       "69 2015 Caroline Rotich            Kenya         2H 24M 55S 2.415278  Women's\n",
       "70 2013 Rita Jeptoo                Kenya         2H 26M 25S 2.440278  Women's\n",
       "71 2012 Sharon Cherop              Kenya         2H 31M 50S 2.530556  Women's\n",
       "72 2011 Caroline Kilel             Kenya         2H 22M 36S 2.376667  Women's\n",
       "73 2009 Salina Kosgei              Kenya         2H 32M 16S 2.537778  Women's\n",
       "74 2006 Rita Jeptoo                Kenya         2H 23M 38S 2.393889  Women's\n",
       "75 2005 Catherine Ndereba          Kenya         2H 25M 13S 2.420278  Women's\n",
       "76 2004 Catherine Ndereba          Kenya         2H 24M 27S 2.407500  Women's\n",
       "77 2002 Margaret Okayo             Kenya         2H 20M 43S 2.345278  Women's\n",
       "78 2001 Catherine Ndereba          Kenya         2H 23M 53S 2.398056  Women's\n",
       "79 2000 Catherine Ndereba          Kenya         2H 26M 11S 2.436389  Women's\n",
       "80 1985 Lisa Larsen-Weidenbach     United States 2H 34M 6S  2.568333  Women's\n",
       "81 1983 Joan Benoit                United States 2H 22M 43S 2.378611  Women's\n",
       "82 1979 Joan Benoit                United States 2H 35M 15S 2.587500  Women's\n",
       "83 1978 Gayle S. Barron            United States 2H 44M 52S 2.747778  Women's\n",
       "84 1977 Michiko (Miki) Gorman      United States 2H 48M 33S 2.809167  Women's\n",
       "85 1976 Kim Merritt                United States 2H 47M 10S 2.786111  Women's\n",
       "86 1974 Michiko (Miki) Gorman      United States 2H 47M 11S 2.786389  Women's\n",
       "87 1973 Jacqueline A. Hansen       United States 3H 5M 59S  3.099722  Women's\n",
       "88 1972 Nina Kuscsik               United States 3H 10M 26S 3.173889  Women's\n",
       "   country.simple\n",
       "1  Kenya         \n",
       "2  Kenya         \n",
       "3  United States \n",
       "4  Kenya         \n",
       "5  Kenya         \n",
       "6  Kenya         \n",
       "7  Kenya         \n",
       "8  Kenya         \n",
       "9  Kenya         \n",
       "10 Kenya         \n",
       "11 Kenya         \n",
       "12 Kenya         \n",
       "13 Kenya         \n",
       "14 Kenya         \n",
       "15 Kenya         \n",
       "16 Kenya         \n",
       "17 Kenya         \n",
       "18 Kenya         \n",
       "19 Kenya         \n",
       "20 Kenya         \n",
       "21 Kenya         \n",
       "22 Kenya         \n",
       "23 Kenya         \n",
       "24 United States \n",
       "25 United States \n",
       "26 United States \n",
       "27 United States \n",
       "28 United States \n",
       "29 United States \n",
       "30 United States \n",
       "⋮  ⋮             \n",
       "59 United States \n",
       "60 United States \n",
       "61 United States \n",
       "62 United States \n",
       "63 United States \n",
       "64 United States \n",
       "65 United States \n",
       "66 United States \n",
       "67 United States \n",
       "68 Kenya         \n",
       "69 Kenya         \n",
       "70 Kenya         \n",
       "71 Kenya         \n",
       "72 Kenya         \n",
       "73 Kenya         \n",
       "74 Kenya         \n",
       "75 Kenya         \n",
       "76 Kenya         \n",
       "77 Kenya         \n",
       "78 Kenya         \n",
       "79 Kenya         \n",
       "80 United States \n",
       "81 United States \n",
       "82 United States \n",
       "83 United States \n",
       "84 United States \n",
       "85 United States \n",
       "86 United States \n",
       "87 United States \n",
       "88 United States "
      ]
     },
     "metadata": {},
     "output_type": "display_data"
    }
   ],
   "source": [
    "df.marathon |>\n",
    "    filter(country == \"Kenya\" | country == \"United States\")"
   ]
  },
  {
   "cell_type": "code",
   "execution_count": null,
   "metadata": {},
   "outputs": [],
   "source": []
  }
 ],
 "metadata": {
  "kernelspec": {
   "display_name": "bios512:R",
   "language": "R",
   "name": "conda-env-bios512-r"
  },
  "language_info": {
   "codemirror_mode": "r",
   "file_extension": ".r",
   "mimetype": "text/x-r-source",
   "name": "R",
   "pygments_lexer": "r",
   "version": "4.3.1"
  }
 },
 "nbformat": 4,
 "nbformat_minor": 4
}
