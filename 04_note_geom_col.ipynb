{
 "cells": [
  {
   "cell_type": "code",
   "execution_count": null,
   "metadata": {},
   "outputs": [],
   "source": [
    "# Load the libraries and set the resolution for your Notebook by \"uncommenting\" and \n",
    "# running the cell below"
   ]
  },
  {
   "cell_type": "code",
   "execution_count": 1,
   "metadata": {},
   "outputs": [
    {
     "name": "stderr",
     "output_type": "stream",
     "text": [
      "Warning message:\n",
      "“Failed to locate timezone database”\n",
      "── \u001b[1mAttaching core tidyverse packages\u001b[22m ──────────────────────── tidyverse 2.0.0 ──\n",
      "\u001b[32m✔\u001b[39m \u001b[34mdplyr    \u001b[39m 1.1.3     \u001b[32m✔\u001b[39m \u001b[34mreadr    \u001b[39m 2.1.4\n",
      "\u001b[32m✔\u001b[39m \u001b[34mforcats  \u001b[39m 1.0.0     \u001b[32m✔\u001b[39m \u001b[34mstringr  \u001b[39m 1.5.0\n",
      "\u001b[32m✔\u001b[39m \u001b[34mggplot2  \u001b[39m 3.4.3     \u001b[32m✔\u001b[39m \u001b[34mtibble   \u001b[39m 3.2.1\n",
      "\u001b[32m✔\u001b[39m \u001b[34mlubridate\u001b[39m 1.9.2     \u001b[32m✔\u001b[39m \u001b[34mtidyr    \u001b[39m 1.3.0\n",
      "\u001b[32m✔\u001b[39m \u001b[34mpurrr    \u001b[39m 1.0.2     \n",
      "── \u001b[1mConflicts\u001b[22m ────────────────────────────────────────── tidyverse_conflicts() ──\n",
      "\u001b[31m✖\u001b[39m \u001b[34mdplyr\u001b[39m::\u001b[32mfilter()\u001b[39m masks \u001b[34mstats\u001b[39m::filter()\n",
      "\u001b[31m✖\u001b[39m \u001b[34mdplyr\u001b[39m::\u001b[32mlag()\u001b[39m    masks \u001b[34mstats\u001b[39m::lag()\n",
      "\u001b[36mℹ\u001b[39m Use the conflicted package (\u001b[3m\u001b[34m<http://conflicted.r-lib.org/>\u001b[39m\u001b[23m) to force all conflicts to become errors\n",
      "\n",
      "Attaching package: ‘scales’\n",
      "\n",
      "\n",
      "The following object is masked from ‘package:purrr’:\n",
      "\n",
      "    discard\n",
      "\n",
      "\n",
      "The following object is masked from ‘package:readr’:\n",
      "\n",
      "    col_factor\n",
      "\n",
      "\n"
     ]
    }
   ],
   "source": [
    "library(\"tidyverse\")\n",
    "\n",
    "library(\"scales\") # 👈 we'll use this to adjust the appearance of the y-axis"
   ]
  },
  {
   "cell_type": "code",
   "execution_count": 2,
   "metadata": {},
   "outputs": [],
   "source": [
    "cases =  read_csv(\"covid-cases.csv\", col_types = cols(date = col_date(\"%Y%m%d\")))"
   ]
  },
  {
   "cell_type": "code",
   "execution_count": 3,
   "metadata": {},
   "outputs": [
    {
     "data": {
      "text/html": [
       "<table class=\"dataframe\">\n",
       "<caption>A tibble: 6 × 56</caption>\n",
       "<thead>\n",
       "\t<tr><th scope=col>date</th><th scope=col>state</th><th scope=col>positive</th><th scope=col>probableCases</th><th scope=col>negative</th><th scope=col>pending</th><th scope=col>totalTestResultsSource</th><th scope=col>totalTestResults</th><th scope=col>hospitalizedCurrently</th><th scope=col>hospitalizedCumulative</th><th scope=col>⋯</th><th scope=col>dataQualityGrade</th><th scope=col>deathIncrease</th><th scope=col>hospitalizedIncrease</th><th scope=col>hash</th><th scope=col>commercialScore</th><th scope=col>negativeRegularScore</th><th scope=col>negativeScore</th><th scope=col>positiveScore</th><th scope=col>score</th><th scope=col>grade</th></tr>\n",
       "\t<tr><th scope=col>&lt;date&gt;</th><th scope=col>&lt;chr&gt;</th><th scope=col>&lt;dbl&gt;</th><th scope=col>&lt;dbl&gt;</th><th scope=col>&lt;lgl&gt;</th><th scope=col>&lt;dbl&gt;</th><th scope=col>&lt;chr&gt;</th><th scope=col>&lt;dbl&gt;</th><th scope=col>&lt;dbl&gt;</th><th scope=col>&lt;lgl&gt;</th><th scope=col>⋯</th><th scope=col>&lt;lgl&gt;</th><th scope=col>&lt;dbl&gt;</th><th scope=col>&lt;dbl&gt;</th><th scope=col>&lt;chr&gt;</th><th scope=col>&lt;dbl&gt;</th><th scope=col>&lt;dbl&gt;</th><th scope=col>&lt;dbl&gt;</th><th scope=col>&lt;dbl&gt;</th><th scope=col>&lt;dbl&gt;</th><th scope=col>&lt;lgl&gt;</th></tr>\n",
       "</thead>\n",
       "<tbody>\n",
       "\t<tr><td>2021-03-07</td><td>NC</td><td>872176</td><td>112559</td><td>NA</td><td>NA</td><td>totalTestsViral</td><td>9688838</td><td>1179</td><td>NA</td><td>⋯</td><td>NA</td><td> 0</td><td>0</td><td>d9ca67dd72ba6f8a8506ebb734fd25b0b8067608</td><td>0</td><td>0</td><td>0</td><td>0</td><td>0</td><td>NA</td></tr>\n",
       "\t<tr><td>2021-03-06</td><td>NC</td><td>872176</td><td>112559</td><td>NA</td><td>NA</td><td>totalTestsViral</td><td>9688838</td><td>1179</td><td>NA</td><td>⋯</td><td>NA</td><td>56</td><td>0</td><td>83cf01f626a4f35bd6237b6d93e3f6f424c885af</td><td>0</td><td>0</td><td>0</td><td>0</td><td>0</td><td>NA</td></tr>\n",
       "\t<tr><td>2021-03-05</td><td>NC</td><td>870149</td><td>112034</td><td>NA</td><td>NA</td><td>totalTestsViral</td><td>9650184</td><td>1226</td><td>NA</td><td>⋯</td><td>NA</td><td>47</td><td>0</td><td>b157a3fac47530dbec303f1abb8811fdf809b2c0</td><td>0</td><td>0</td><td>0</td><td>0</td><td>0</td><td>NA</td></tr>\n",
       "\t<tr><td>2021-03-04</td><td>NC</td><td>868056</td><td>111547</td><td>NA</td><td>NA</td><td>totalTestsViral</td><td>9605697</td><td>1290</td><td>NA</td><td>⋯</td><td>NA</td><td>36</td><td>0</td><td>b0e0b0510f722eb05aa86e35d1a4b736d9b2f80b</td><td>0</td><td>0</td><td>0</td><td>0</td><td>0</td><td>NA</td></tr>\n",
       "\t<tr><td>2021-03-03</td><td>NC</td><td>865554</td><td>110944</td><td>NA</td><td>NA</td><td>totalTestsViral</td><td>9561647</td><td>1303</td><td>NA</td><td>⋯</td><td>NA</td><td>75</td><td>0</td><td>ed7883b95bc3197feaa256f83f1cd4090f854fcf</td><td>0</td><td>0</td><td>0</td><td>0</td><td>0</td><td>NA</td></tr>\n",
       "\t<tr><td>2021-03-02</td><td>NC</td><td>863409</td><td>110129</td><td>NA</td><td>NA</td><td>totalTestsViral</td><td>9541671</td><td>1353</td><td>NA</td><td>⋯</td><td>NA</td><td>34</td><td>0</td><td>3c1b6e5db11caad989fa709222f0497ac501a42a</td><td>0</td><td>0</td><td>0</td><td>0</td><td>0</td><td>NA</td></tr>\n",
       "</tbody>\n",
       "</table>\n"
      ],
      "text/latex": [
       "A tibble: 6 × 56\n",
       "\\begin{tabular}{lllllllllllllllllllll}\n",
       " date & state & positive & probableCases & negative & pending & totalTestResultsSource & totalTestResults & hospitalizedCurrently & hospitalizedCumulative & ⋯ & dataQualityGrade & deathIncrease & hospitalizedIncrease & hash & commercialScore & negativeRegularScore & negativeScore & positiveScore & score & grade\\\\\n",
       " <date> & <chr> & <dbl> & <dbl> & <lgl> & <dbl> & <chr> & <dbl> & <dbl> & <lgl> & ⋯ & <lgl> & <dbl> & <dbl> & <chr> & <dbl> & <dbl> & <dbl> & <dbl> & <dbl> & <lgl>\\\\\n",
       "\\hline\n",
       "\t 2021-03-07 & NC & 872176 & 112559 & NA & NA & totalTestsViral & 9688838 & 1179 & NA & ⋯ & NA &  0 & 0 & d9ca67dd72ba6f8a8506ebb734fd25b0b8067608 & 0 & 0 & 0 & 0 & 0 & NA\\\\\n",
       "\t 2021-03-06 & NC & 872176 & 112559 & NA & NA & totalTestsViral & 9688838 & 1179 & NA & ⋯ & NA & 56 & 0 & 83cf01f626a4f35bd6237b6d93e3f6f424c885af & 0 & 0 & 0 & 0 & 0 & NA\\\\\n",
       "\t 2021-03-05 & NC & 870149 & 112034 & NA & NA & totalTestsViral & 9650184 & 1226 & NA & ⋯ & NA & 47 & 0 & b157a3fac47530dbec303f1abb8811fdf809b2c0 & 0 & 0 & 0 & 0 & 0 & NA\\\\\n",
       "\t 2021-03-04 & NC & 868056 & 111547 & NA & NA & totalTestsViral & 9605697 & 1290 & NA & ⋯ & NA & 36 & 0 & b0e0b0510f722eb05aa86e35d1a4b736d9b2f80b & 0 & 0 & 0 & 0 & 0 & NA\\\\\n",
       "\t 2021-03-03 & NC & 865554 & 110944 & NA & NA & totalTestsViral & 9561647 & 1303 & NA & ⋯ & NA & 75 & 0 & ed7883b95bc3197feaa256f83f1cd4090f854fcf & 0 & 0 & 0 & 0 & 0 & NA\\\\\n",
       "\t 2021-03-02 & NC & 863409 & 110129 & NA & NA & totalTestsViral & 9541671 & 1353 & NA & ⋯ & NA & 34 & 0 & 3c1b6e5db11caad989fa709222f0497ac501a42a & 0 & 0 & 0 & 0 & 0 & NA\\\\\n",
       "\\end{tabular}\n"
      ],
      "text/markdown": [
       "\n",
       "A tibble: 6 × 56\n",
       "\n",
       "| date &lt;date&gt; | state &lt;chr&gt; | positive &lt;dbl&gt; | probableCases &lt;dbl&gt; | negative &lt;lgl&gt; | pending &lt;dbl&gt; | totalTestResultsSource &lt;chr&gt; | totalTestResults &lt;dbl&gt; | hospitalizedCurrently &lt;dbl&gt; | hospitalizedCumulative &lt;lgl&gt; | ⋯ ⋯ | dataQualityGrade &lt;lgl&gt; | deathIncrease &lt;dbl&gt; | hospitalizedIncrease &lt;dbl&gt; | hash &lt;chr&gt; | commercialScore &lt;dbl&gt; | negativeRegularScore &lt;dbl&gt; | negativeScore &lt;dbl&gt; | positiveScore &lt;dbl&gt; | score &lt;dbl&gt; | grade &lt;lgl&gt; |\n",
       "|---|---|---|---|---|---|---|---|---|---|---|---|---|---|---|---|---|---|---|---|---|\n",
       "| 2021-03-07 | NC | 872176 | 112559 | NA | NA | totalTestsViral | 9688838 | 1179 | NA | ⋯ | NA |  0 | 0 | d9ca67dd72ba6f8a8506ebb734fd25b0b8067608 | 0 | 0 | 0 | 0 | 0 | NA |\n",
       "| 2021-03-06 | NC | 872176 | 112559 | NA | NA | totalTestsViral | 9688838 | 1179 | NA | ⋯ | NA | 56 | 0 | 83cf01f626a4f35bd6237b6d93e3f6f424c885af | 0 | 0 | 0 | 0 | 0 | NA |\n",
       "| 2021-03-05 | NC | 870149 | 112034 | NA | NA | totalTestsViral | 9650184 | 1226 | NA | ⋯ | NA | 47 | 0 | b157a3fac47530dbec303f1abb8811fdf809b2c0 | 0 | 0 | 0 | 0 | 0 | NA |\n",
       "| 2021-03-04 | NC | 868056 | 111547 | NA | NA | totalTestsViral | 9605697 | 1290 | NA | ⋯ | NA | 36 | 0 | b0e0b0510f722eb05aa86e35d1a4b736d9b2f80b | 0 | 0 | 0 | 0 | 0 | NA |\n",
       "| 2021-03-03 | NC | 865554 | 110944 | NA | NA | totalTestsViral | 9561647 | 1303 | NA | ⋯ | NA | 75 | 0 | ed7883b95bc3197feaa256f83f1cd4090f854fcf | 0 | 0 | 0 | 0 | 0 | NA |\n",
       "| 2021-03-02 | NC | 863409 | 110129 | NA | NA | totalTestsViral | 9541671 | 1353 | NA | ⋯ | NA | 34 | 0 | 3c1b6e5db11caad989fa709222f0497ac501a42a | 0 | 0 | 0 | 0 | 0 | NA |\n",
       "\n"
      ],
      "text/plain": [
       "  date       state positive probableCases negative pending\n",
       "1 2021-03-07 NC    872176   112559        NA       NA     \n",
       "2 2021-03-06 NC    872176   112559        NA       NA     \n",
       "3 2021-03-05 NC    870149   112034        NA       NA     \n",
       "4 2021-03-04 NC    868056   111547        NA       NA     \n",
       "5 2021-03-03 NC    865554   110944        NA       NA     \n",
       "6 2021-03-02 NC    863409   110129        NA       NA     \n",
       "  totalTestResultsSource totalTestResults hospitalizedCurrently\n",
       "1 totalTestsViral        9688838          1179                 \n",
       "2 totalTestsViral        9688838          1179                 \n",
       "3 totalTestsViral        9650184          1226                 \n",
       "4 totalTestsViral        9605697          1290                 \n",
       "5 totalTestsViral        9561647          1303                 \n",
       "6 totalTestsViral        9541671          1353                 \n",
       "  hospitalizedCumulative ⋯ dataQualityGrade deathIncrease hospitalizedIncrease\n",
       "1 NA                     ⋯ NA                0            0                   \n",
       "2 NA                     ⋯ NA               56            0                   \n",
       "3 NA                     ⋯ NA               47            0                   \n",
       "4 NA                     ⋯ NA               36            0                   \n",
       "5 NA                     ⋯ NA               75            0                   \n",
       "6 NA                     ⋯ NA               34            0                   \n",
       "  hash                                     commercialScore negativeRegularScore\n",
       "1 d9ca67dd72ba6f8a8506ebb734fd25b0b8067608 0               0                   \n",
       "2 83cf01f626a4f35bd6237b6d93e3f6f424c885af 0               0                   \n",
       "3 b157a3fac47530dbec303f1abb8811fdf809b2c0 0               0                   \n",
       "4 b0e0b0510f722eb05aa86e35d1a4b736d9b2f80b 0               0                   \n",
       "5 ed7883b95bc3197feaa256f83f1cd4090f854fcf 0               0                   \n",
       "6 3c1b6e5db11caad989fa709222f0497ac501a42a 0               0                   \n",
       "  negativeScore positiveScore score grade\n",
       "1 0             0             0     NA   \n",
       "2 0             0             0     NA   \n",
       "3 0             0             0     NA   \n",
       "4 0             0             0     NA   \n",
       "5 0             0             0     NA   \n",
       "6 0             0             0     NA   "
      ]
     },
     "metadata": {},
     "output_type": "display_data"
    }
   ],
   "source": [
    "# Run this cell.\n",
    "# What are the columns in the cases dataset?\n",
    "\n",
    "cases %>% head"
   ]
  },
  {
   "cell_type": "markdown",
   "metadata": {},
   "source": [
    "Let's make this figure 👇"
   ]
  },
  {
   "cell_type": "markdown",
   "metadata": {},
   "source": [
    "<img src=\"NC-daily-cases.png\" style=\"width: 850px\" />"
   ]
  },
  {
   "cell_type": "markdown",
   "metadata": {},
   "source": [
    "- What column in the `cases` dataset is represented on each axis?\n",
    "- After looking at the data, what `geom` should you use?"
   ]
  },
  {
   "cell_type": "markdown",
   "metadata": {},
   "source": [
    "**Using your answers above, re-create the above chart.**"
   ]
  },
  {
   "cell_type": "markdown",
   "metadata": {},
   "source": [
    "#### You need to include stat='identity', which is basically telling ggplot2 you will provide the y-values for the barplot, rather than counting the aggregate number of rows for each x value, which is the default stat=count"
   ]
  },
  {
   "cell_type": "markdown",
   "metadata": {},
   "source": [
    "#### **geom_col is the same as geom_bar(stat='identity')"
   ]
  },
  {
   "cell_type": "code",
   "execution_count": 17,
   "metadata": {},
   "outputs": [
    {
     "data": {
      "image/png": "[encoded data removed]",
      "text/plain": [
       "plot without title"
      ]
     },
     "metadata": {
      "image/png": {
       "height": 375,
       "width": 900
      }
     },
     "output_type": "display_data"
    }
   ],
   "source": [
    "options(repr.plot.width=6, repr.plot.height=2.5, repr.plot.res = 300)\n",
    "\n",
    "# write your chart code below 👇\n",
    "p = ggplot(cases, aes(x=date, y=positiveIncrease)) + geom_bar(stat='identity')\n",
    "\n",
    "p"
   ]
  },
  {
   "cell_type": "markdown",
   "metadata": {},
   "source": [
    "## Bonus❗️\n",
    "\n",
    "The cases dataset only has case counts for NC. How might you confirm this using `geom_bar`?"
   ]
  },
  {
   "cell_type": "code",
   "execution_count": 24,
   "metadata": {},
   "outputs": [
    {
     "data": {
      "text/html": [
       "<style>\n",
       ".list-inline {list-style: none; margin:0; padding: 0}\n",
       ".list-inline>li {display: inline-block}\n",
       ".list-inline>li:not(:last-child)::after {content: \"\\00b7\"; padding: 0 .5ex}\n",
       "</style>\n",
       "<ol class=list-inline><li>'date'</li><li>'state'</li><li>'positive'</li><li>'probableCases'</li><li>'negative'</li><li>'pending'</li><li>'totalTestResultsSource'</li><li>'totalTestResults'</li><li>'hospitalizedCurrently'</li><li>'hospitalizedCumulative'</li><li>'inIcuCurrently'</li><li>'inIcuCumulative'</li><li>'onVentilatorCurrently'</li><li>'onVentilatorCumulative'</li><li>'recovered'</li><li>'lastUpdateEt'</li><li>'dateModified'</li><li>'checkTimeEt'</li><li>'death'</li><li>'hospitalized'</li><li>'hospitalizedDischarged'</li><li>'dateChecked'</li><li>'totalTestsViral'</li><li>'positiveTestsViral'</li><li>'negativeTestsViral'</li><li>'positiveCasesViral'</li><li>'deathConfirmed'</li><li>'deathProbable'</li><li>'totalTestEncountersViral'</li><li>'totalTestsPeopleViral'</li><li>'totalTestsAntibody'</li><li>'positiveTestsAntibody'</li><li>'negativeTestsAntibody'</li><li>'totalTestsPeopleAntibody'</li><li>'positiveTestsPeopleAntibody'</li><li>'negativeTestsPeopleAntibody'</li><li>'totalTestsPeopleAntigen'</li><li>'positiveTestsPeopleAntigen'</li><li>'totalTestsAntigen'</li><li>'positiveTestsAntigen'</li><li>'fips'</li><li>'positiveIncrease'</li><li>'negativeIncrease'</li><li>'total'</li><li>'totalTestResultsIncrease'</li><li>'posNeg'</li><li>'dataQualityGrade'</li><li>'deathIncrease'</li><li>'hospitalizedIncrease'</li><li>'hash'</li><li>'commercialScore'</li><li>'negativeRegularScore'</li><li>'negativeScore'</li><li>'positiveScore'</li><li>'score'</li><li>'grade'</li></ol>\n"
      ],
      "text/latex": [
       "\\begin{enumerate*}\n",
       "\\item 'date'\n",
       "\\item 'state'\n",
       "\\item 'positive'\n",
       "\\item 'probableCases'\n",
       "\\item 'negative'\n",
       "\\item 'pending'\n",
       "\\item 'totalTestResultsSource'\n",
       "\\item 'totalTestResults'\n",
       "\\item 'hospitalizedCurrently'\n",
       "\\item 'hospitalizedCumulative'\n",
       "\\item 'inIcuCurrently'\n",
       "\\item 'inIcuCumulative'\n",
       "\\item 'onVentilatorCurrently'\n",
       "\\item 'onVentilatorCumulative'\n",
       "\\item 'recovered'\n",
       "\\item 'lastUpdateEt'\n",
       "\\item 'dateModified'\n",
       "\\item 'checkTimeEt'\n",
       "\\item 'death'\n",
       "\\item 'hospitalized'\n",
       "\\item 'hospitalizedDischarged'\n",
       "\\item 'dateChecked'\n",
       "\\item 'totalTestsViral'\n",
       "\\item 'positiveTestsViral'\n",
       "\\item 'negativeTestsViral'\n",
       "\\item 'positiveCasesViral'\n",
       "\\item 'deathConfirmed'\n",
       "\\item 'deathProbable'\n",
       "\\item 'totalTestEncountersViral'\n",
       "\\item 'totalTestsPeopleViral'\n",
       "\\item 'totalTestsAntibody'\n",
       "\\item 'positiveTestsAntibody'\n",
       "\\item 'negativeTestsAntibody'\n",
       "\\item 'totalTestsPeopleAntibody'\n",
       "\\item 'positiveTestsPeopleAntibody'\n",
       "\\item 'negativeTestsPeopleAntibody'\n",
       "\\item 'totalTestsPeopleAntigen'\n",
       "\\item 'positiveTestsPeopleAntigen'\n",
       "\\item 'totalTestsAntigen'\n",
       "\\item 'positiveTestsAntigen'\n",
       "\\item 'fips'\n",
       "\\item 'positiveIncrease'\n",
       "\\item 'negativeIncrease'\n",
       "\\item 'total'\n",
       "\\item 'totalTestResultsIncrease'\n",
       "\\item 'posNeg'\n",
       "\\item 'dataQualityGrade'\n",
       "\\item 'deathIncrease'\n",
       "\\item 'hospitalizedIncrease'\n",
       "\\item 'hash'\n",
       "\\item 'commercialScore'\n",
       "\\item 'negativeRegularScore'\n",
       "\\item 'negativeScore'\n",
       "\\item 'positiveScore'\n",
       "\\item 'score'\n",
       "\\item 'grade'\n",
       "\\end{enumerate*}\n"
      ],
      "text/markdown": [
       "1. 'date'\n",
       "2. 'state'\n",
       "3. 'positive'\n",
       "4. 'probableCases'\n",
       "5. 'negative'\n",
       "6. 'pending'\n",
       "7. 'totalTestResultsSource'\n",
       "8. 'totalTestResults'\n",
       "9. 'hospitalizedCurrently'\n",
       "10. 'hospitalizedCumulative'\n",
       "11. 'inIcuCurrently'\n",
       "12. 'inIcuCumulative'\n",
       "13. 'onVentilatorCurrently'\n",
       "14. 'onVentilatorCumulative'\n",
       "15. 'recovered'\n",
       "16. 'lastUpdateEt'\n",
       "17. 'dateModified'\n",
       "18. 'checkTimeEt'\n",
       "19. 'death'\n",
       "20. 'hospitalized'\n",
       "21. 'hospitalizedDischarged'\n",
       "22. 'dateChecked'\n",
       "23. 'totalTestsViral'\n",
       "24. 'positiveTestsViral'\n",
       "25. 'negativeTestsViral'\n",
       "26. 'positiveCasesViral'\n",
       "27. 'deathConfirmed'\n",
       "28. 'deathProbable'\n",
       "29. 'totalTestEncountersViral'\n",
       "30. 'totalTestsPeopleViral'\n",
       "31. 'totalTestsAntibody'\n",
       "32. 'positiveTestsAntibody'\n",
       "33. 'negativeTestsAntibody'\n",
       "34. 'totalTestsPeopleAntibody'\n",
       "35. 'positiveTestsPeopleAntibody'\n",
       "36. 'negativeTestsPeopleAntibody'\n",
       "37. 'totalTestsPeopleAntigen'\n",
       "38. 'positiveTestsPeopleAntigen'\n",
       "39. 'totalTestsAntigen'\n",
       "40. 'positiveTestsAntigen'\n",
       "41. 'fips'\n",
       "42. 'positiveIncrease'\n",
       "43. 'negativeIncrease'\n",
       "44. 'total'\n",
       "45. 'totalTestResultsIncrease'\n",
       "46. 'posNeg'\n",
       "47. 'dataQualityGrade'\n",
       "48. 'deathIncrease'\n",
       "49. 'hospitalizedIncrease'\n",
       "50. 'hash'\n",
       "51. 'commercialScore'\n",
       "52. 'negativeRegularScore'\n",
       "53. 'negativeScore'\n",
       "54. 'positiveScore'\n",
       "55. 'score'\n",
       "56. 'grade'\n",
       "\n",
       "\n"
      ],
      "text/plain": [
       " [1] \"date\"                        \"state\"                      \n",
       " [3] \"positive\"                    \"probableCases\"              \n",
       " [5] \"negative\"                    \"pending\"                    \n",
       " [7] \"totalTestResultsSource\"      \"totalTestResults\"           \n",
       " [9] \"hospitalizedCurrently\"       \"hospitalizedCumulative\"     \n",
       "[11] \"inIcuCurrently\"              \"inIcuCumulative\"            \n",
       "[13] \"onVentilatorCurrently\"       \"onVentilatorCumulative\"     \n",
       "[15] \"recovered\"                   \"lastUpdateEt\"               \n",
       "[17] \"dateModified\"                \"checkTimeEt\"                \n",
       "[19] \"death\"                       \"hospitalized\"               \n",
       "[21] \"hospitalizedDischarged\"      \"dateChecked\"                \n",
       "[23] \"totalTestsViral\"             \"positiveTestsViral\"         \n",
       "[25] \"negativeTestsViral\"          \"positiveCasesViral\"         \n",
       "[27] \"deathConfirmed\"              \"deathProbable\"              \n",
       "[29] \"totalTestEncountersViral\"    \"totalTestsPeopleViral\"      \n",
       "[31] \"totalTestsAntibody\"          \"positiveTestsAntibody\"      \n",
       "[33] \"negativeTestsAntibody\"       \"totalTestsPeopleAntibody\"   \n",
       "[35] \"positiveTestsPeopleAntibody\" \"negativeTestsPeopleAntibody\"\n",
       "[37] \"totalTestsPeopleAntigen\"     \"positiveTestsPeopleAntigen\" \n",
       "[39] \"totalTestsAntigen\"           \"positiveTestsAntigen\"       \n",
       "[41] \"fips\"                        \"positiveIncrease\"           \n",
       "[43] \"negativeIncrease\"            \"total\"                      \n",
       "[45] \"totalTestResultsIncrease\"    \"posNeg\"                     \n",
       "[47] \"dataQualityGrade\"            \"deathIncrease\"              \n",
       "[49] \"hospitalizedIncrease\"        \"hash\"                       \n",
       "[51] \"commercialScore\"             \"negativeRegularScore\"       \n",
       "[53] \"negativeScore\"               \"positiveScore\"              \n",
       "[55] \"score\"                       \"grade\"                      "
      ]
     },
     "metadata": {},
     "output_type": "display_data"
    }
   ],
   "source": [
    "cases |> names()"
   ]
  },
  {
   "cell_type": "code",
   "execution_count": 30,
   "metadata": {
    "tags": []
   },
   "outputs": [
    {
     "data": {
      "image/png": "[encoded data removed]",
      "text/plain": [
       "plot without title"
      ]
     },
     "metadata": {
      "image/png": {
       "height": 375,
       "width": 900
      }
     },
     "output_type": "display_data"
    }
   ],
   "source": [
    "p = ggplot(cases, aes(x=state)) + geom_bar()\n",
    "\n",
    "p"
   ]
  },
  {
   "cell_type": "code",
   "execution_count": null,
   "metadata": {},
   "outputs": [],
   "source": []
  }
 ],
 "metadata": {
  "kernelspec": {
   "display_name": "bios512:R",
   "language": "R",
   "name": "conda-env-bios512-r"
  },
  "language_info": {
   "codemirror_mode": "r",
   "file_extension": ".r",
   "mimetype": "text/x-r-source",
   "name": "R",
   "pygments_lexer": "r",
   "version": "4.3.1"
  }
 },
 "nbformat": 4,
 "nbformat_minor": 4
}
