{
 "cells": [
  {
   "cell_type": "markdown",
   "id": "230d1b45-b0af-4482-92a3-352f6a260111",
   "metadata": {},
   "source": [
    "🧬 💵 Let's read salary data for biotech careers from [this public spreadsheet](https://docs.google.com/spreadsheets/d/1G0FmJhkOME_sv66hWmhnZS5qR2KMTY7nzkxksv46bfk).\n",
    "\n",
    "First, load the `googlesheets4` package."
   ]
  },
  {
   "cell_type": "code",
   "execution_count": 4,
   "id": "d33d5bb1-368e-4500-ab37-d97ce69c6485",
   "metadata": {
    "tags": []
   },
   "outputs": [
    {
     "name": "stderr",
     "output_type": "stream",
     "text": [
      "Warning message:\n",
      "“Failed to locate timezone database”\n",
      "── \u001b[1mAttaching core tidyverse packages\u001b[22m ──────────────────────── tidyverse 2.0.0 ──\n",
      "\u001b[32m✔\u001b[39m \u001b[34mdplyr    \u001b[39m 1.1.3     \u001b[32m✔\u001b[39m \u001b[34mreadr    \u001b[39m 2.1.4\n",
      "\u001b[32m✔\u001b[39m \u001b[34mforcats  \u001b[39m 1.0.0     \u001b[32m✔\u001b[39m \u001b[34mstringr  \u001b[39m 1.5.0\n",
      "\u001b[32m✔\u001b[39m \u001b[34mggplot2  \u001b[39m 3.4.3     \u001b[32m✔\u001b[39m \u001b[34mtibble   \u001b[39m 3.2.1\n",
      "\u001b[32m✔\u001b[39m \u001b[34mlubridate\u001b[39m 1.9.2     \u001b[32m✔\u001b[39m \u001b[34mtidyr    \u001b[39m 1.3.0\n",
      "\u001b[32m✔\u001b[39m \u001b[34mpurrr    \u001b[39m 1.0.2     \n",
      "── \u001b[1mConflicts\u001b[22m ────────────────────────────────────────── tidyverse_conflicts() ──\n",
      "\u001b[31m✖\u001b[39m \u001b[34mdplyr\u001b[39m::\u001b[32mfilter()\u001b[39m masks \u001b[34mstats\u001b[39m::filter()\n",
      "\u001b[31m✖\u001b[39m \u001b[34mdplyr\u001b[39m::\u001b[32mlag()\u001b[39m    masks \u001b[34mstats\u001b[39m::lag()\n",
      "\u001b[36mℹ\u001b[39m Use the conflicted package (\u001b[3m\u001b[34m<http://conflicted.r-lib.org/>\u001b[39m\u001b[23m) to force all conflicts to become errors\n"
     ]
    }
   ],
   "source": [
    "library('googlesheets4')\n",
    "library('tidyverse')"
   ]
  },
  {
   "cell_type": "code",
   "execution_count": 32,
   "id": "5d722996-9bdb-4116-be88-44447d0ee6f5",
   "metadata": {
    "tags": []
   },
   "outputs": [
    {
     "name": "stderr",
     "output_type": "stream",
     "text": [
      "\u001b[32m✔\u001b[39m Reading from \u001b[36mr/biotech salary and company survey\u001b[39m.\n",
      "\n",
      "\u001b[32m✔\u001b[39m Range \u001b[33mForm Responses 2\u001b[39m.\n",
      "\n",
      "Warning message:\n",
      "“\u001b[1m\u001b[22mThere was 1 warning in `mutate()`.\n",
      "\u001b[1m\u001b[22m\u001b[36mℹ\u001b[39m In argument: `Years of Experience = as.integer(`Years of Experience`)`.\n",
      "Caused by warning:\n",
      "\u001b[33m!\u001b[39m NAs introduced by coercion”\n"
     ]
    },
    {
     "data": {
      "text/html": [
       "<table class=\"dataframe\">\n",
       "<caption>A tibble: 6 × 23</caption>\n",
       "<thead>\n",
       "\t<tr><th scope=col>Timestamp</th><th scope=col>What country do you work in?</th><th scope=col>Where is the closest major city or hub?</th><th scope=col>Biotech sub industry?</th><th scope=col>Company or Institution Name</th><th scope=col>Company Details - public/private/start-up/ subsidiary of</th><th scope=col>Company Detail - Approximate Company Size</th><th scope=col>Role / Title of current position</th><th scope=col>Highest achieved Formal Education</th><th scope=col>List other relevant and recognized certifications</th><th scope=col>⋯</th><th scope=col>Compensation - Overtime Pay</th><th scope=col>Compensation - Annual Target Bonus ($)</th><th scope=col>Compensation - Annual Equity</th><th scope=col>Compensation - Sign on Bonus Value</th><th scope=col>Compensation - Stock Options</th><th scope=col>Compensation - Retirement Benefits (free text)</th><th scope=col>Compensation - Healthcare Benefits (free text)</th><th scope=col>Compensation - Most recent annual yearly raise (%)</th><th scope=col>[OPTIONAL] Sign on - Relocation Assistance Total Value</th><th scope=col>[Optional] Company Review</th></tr>\n",
       "\t<tr><th scope=col>&lt;dttm&gt;</th><th scope=col>&lt;chr&gt;</th><th scope=col>&lt;chr&gt;</th><th scope=col>&lt;chr&gt;</th><th scope=col>&lt;chr&gt;</th><th scope=col>&lt;chr&gt;</th><th scope=col>&lt;chr&gt;</th><th scope=col>&lt;chr&gt;</th><th scope=col>&lt;chr&gt;</th><th scope=col>&lt;chr&gt;</th><th scope=col>⋯</th><th scope=col>&lt;list&gt;</th><th scope=col>&lt;list&gt;</th><th scope=col>&lt;list&gt;</th><th scope=col>&lt;dbl&gt;</th><th scope=col>&lt;list&gt;</th><th scope=col>&lt;list&gt;</th><th scope=col>&lt;list&gt;</th><th scope=col>&lt;list&gt;</th><th scope=col>&lt;dbl&gt;</th><th scope=col>&lt;chr&gt;</th></tr>\n",
       "</thead>\n",
       "<tbody>\n",
       "\t<tr><td>2023-03-29 01:16:54</td><td>USA                     </td><td>Boston        </td><td>Pharmaceutical (including “big pharma”)</td><td>Sanofi           </td><td>Public  </td><td>5000+    </td><td>Senior Research Associate    </td><td>Bachelors or Equivalent</td><td>None</td><td>⋯</td><td>N/A (no overtime/salaried)</td><td>9500</td><td>Not Applicable/None</td><td>15000</td><td>NULL</td><td>9% 401k match</td><td>NULL</td><td>Have not been long enough to have an annual yearly raise</td><td>NA</td><td>NA        </td></tr>\n",
       "\t<tr><td>2023-03-29 01:14:36</td><td>USA                     </td><td>Washington DC </td><td>Medical Devices                        </td><td>Senseonics       </td><td>Public  </td><td>50-200   </td><td>Sr Scientist                 </td><td>PhD or Equivalent      </td><td>None</td><td>⋯</td><td>N/A (no overtime/salaried)</td><td>12750</td><td>Not Applicable/None</td><td>   NA</td><td>RSU and Options</td><td>401k match up to 4%</td><td>PPO</td><td>0.045</td><td>NA</td><td>V positive</td></tr>\n",
       "\t<tr><td>2023-03-29 01:09:43</td><td>United States           </td><td>Seattle       </td><td>Pharmaceutical (including “big pharma”)</td><td>Prefer not to say</td><td>Public  </td><td>1000-5000</td><td>Senior Quality Manager       </td><td>Bachelors or Equivalent</td><td>ASQ </td><td>⋯</td><td>N/A (no overtime/salaried)</td><td>25000</td><td>30000</td><td>   NA</td><td>NULL</td><td>NULL</td><td>NULL</td><td>4</td><td>NA</td><td>NA        </td></tr>\n",
       "\t<tr><td>2023-03-29 01:02:04</td><td>USA                     </td><td>Washington, DC</td><td>Pharmaceutical (including “big pharma”)</td><td>Prefer not to say</td><td>Public  </td><td>200-1000 </td><td>Clinical Research Manager    </td><td>PhD or Equivalent      </td><td>None</td><td>⋯</td><td>N/A (no overtime/salaried)</td><td>11500</td><td>Not Applicable/None</td><td>   NA</td><td>NULL</td><td>401K 4% match</td><td>NULL</td><td>Have not been long enough to have an annual yearly raise</td><td>NA</td><td>NA        </td></tr>\n",
       "\t<tr><td>2023-03-29 00:42:48</td><td>United States of America</td><td>San Diego     </td><td>Pharmaceutical (including “big pharma”)</td><td>Prefer not to say</td><td>Start-up</td><td>1-50     </td><td>Process Development Associate</td><td>Bachelors or Equivalent</td><td>None</td><td>⋯</td><td>N/A (no overtime/salaried)</td><td>10000</td><td>Not Applicable/None</td><td> 8000</td><td>N/A - not public yet</td><td>N/A</td><td>Healthcare premiums are covered 100%</td><td>Have not been long enough to have an annual yearly raise</td><td>NA</td><td>NA        </td></tr>\n",
       "\t<tr><td>2023-03-29 00:41:11</td><td>USA                     </td><td>Bay Area      </td><td>Pharmaceutical (including “big pharma”)</td><td>Prefer not to say</td><td>Public  </td><td>5000+    </td><td>Research Scientist           </td><td>PhD or Equivalent      </td><td>None</td><td>⋯</td><td>N/A (no overtime/salaried)</td><td>25000</td><td>Not Applicable/None</td><td>   NA</td><td>NULL</td><td>NULL</td><td>NULL</td><td>Have not been long enough to have an annual yearly raise</td><td>NA</td><td>NA        </td></tr>\n",
       "</tbody>\n",
       "</table>\n"
      ],
      "text/latex": [
       "A tibble: 6 × 23\n",
       "\\begin{tabular}{lllllllllllllllllllll}\n",
       " Timestamp & What country do you work in? & Where is the closest major city or hub? & Biotech sub industry? & Company or Institution Name & Company Details - public/private/start-up/ subsidiary of & Company Detail - Approximate Company Size & Role / Title of current position & Highest achieved Formal Education & List other relevant and recognized certifications & ⋯ & Compensation - Overtime Pay & Compensation - Annual Target Bonus (\\$) & Compensation - Annual Equity & Compensation - Sign on Bonus Value & Compensation - Stock Options & Compensation - Retirement Benefits (free text) & Compensation - Healthcare Benefits (free text) & Compensation - Most recent annual yearly raise (\\%) & {[}OPTIONAL{]} Sign on - Relocation Assistance Total Value & {[}Optional{]} Company Review\\\\\n",
       " <dttm> & <chr> & <chr> & <chr> & <chr> & <chr> & <chr> & <chr> & <chr> & <chr> & ⋯ & <list> & <list> & <list> & <dbl> & <list> & <list> & <list> & <list> & <dbl> & <chr>\\\\\n",
       "\\hline\n",
       "\t 2023-03-29 01:16:54 & USA                      & Boston         & Pharmaceutical (including “big pharma”) & Sanofi            & Public   & 5000+     & Senior Research Associate     & Bachelors or Equivalent & None & ⋯ & N/A (no overtime/salaried) & 9500 & Not Applicable/None & 15000 & NULL & 9\\% 401k match & NULL & Have not been long enough to have an annual yearly raise & NA & NA        \\\\\n",
       "\t 2023-03-29 01:14:36 & USA                      & Washington DC  & Medical Devices                         & Senseonics        & Public   & 50-200    & Sr Scientist                  & PhD or Equivalent       & None & ⋯ & N/A (no overtime/salaried) & 12750 & Not Applicable/None &    NA & RSU and Options & 401k match up to 4\\% & PPO & 0.045 & NA & V positive\\\\\n",
       "\t 2023-03-29 01:09:43 & United States            & Seattle        & Pharmaceutical (including “big pharma”) & Prefer not to say & Public   & 1000-5000 & Senior Quality Manager        & Bachelors or Equivalent & ASQ  & ⋯ & N/A (no overtime/salaried) & 25000 & 30000 &    NA & NULL & NULL & NULL & 4 & NA & NA        \\\\\n",
       "\t 2023-03-29 01:02:04 & USA                      & Washington, DC & Pharmaceutical (including “big pharma”) & Prefer not to say & Public   & 200-1000  & Clinical Research Manager     & PhD or Equivalent       & None & ⋯ & N/A (no overtime/salaried) & 11500 & Not Applicable/None &    NA & NULL & 401K 4\\% match & NULL & Have not been long enough to have an annual yearly raise & NA & NA        \\\\\n",
       "\t 2023-03-29 00:42:48 & United States of America & San Diego      & Pharmaceutical (including “big pharma”) & Prefer not to say & Start-up & 1-50      & Process Development Associate & Bachelors or Equivalent & None & ⋯ & N/A (no overtime/salaried) & 10000 & Not Applicable/None &  8000 & N/A - not public yet & N/A & Healthcare premiums are covered 100\\% & Have not been long enough to have an annual yearly raise & NA & NA        \\\\\n",
       "\t 2023-03-29 00:41:11 & USA                      & Bay Area       & Pharmaceutical (including “big pharma”) & Prefer not to say & Public   & 5000+     & Research Scientist            & PhD or Equivalent       & None & ⋯ & N/A (no overtime/salaried) & 25000 & Not Applicable/None &    NA & NULL & NULL & NULL & Have not been long enough to have an annual yearly raise & NA & NA        \\\\\n",
       "\\end{tabular}\n"
      ],
      "text/markdown": [
       "\n",
       "A tibble: 6 × 23\n",
       "\n",
       "| Timestamp &lt;dttm&gt; | What country do you work in? &lt;chr&gt; | Where is the closest major city or hub? &lt;chr&gt; | Biotech sub industry? &lt;chr&gt; | Company or Institution Name &lt;chr&gt; | Company Details - public/private/start-up/ subsidiary of &lt;chr&gt; | Company Detail - Approximate Company Size &lt;chr&gt; | Role / Title of current position &lt;chr&gt; | Highest achieved Formal Education &lt;chr&gt; | List other relevant and recognized certifications &lt;chr&gt; | ⋯ ⋯ | Compensation - Overtime Pay &lt;list&gt; | Compensation - Annual Target Bonus ($) &lt;list&gt; | Compensation - Annual Equity &lt;list&gt; | Compensation - Sign on Bonus Value &lt;dbl&gt; | Compensation - Stock Options &lt;list&gt; | Compensation - Retirement Benefits (free text) &lt;list&gt; | Compensation - Healthcare Benefits (free text) &lt;list&gt; | Compensation - Most recent annual yearly raise (%) &lt;list&gt; | [OPTIONAL] Sign on - Relocation Assistance Total Value &lt;dbl&gt; | [Optional] Company Review &lt;chr&gt; |\n",
       "|---|---|---|---|---|---|---|---|---|---|---|---|---|---|---|---|---|---|---|---|---|\n",
       "| 2023-03-29 01:16:54 | USA                      | Boston         | Pharmaceutical (including “big pharma”) | Sanofi            | Public   | 5000+     | Senior Research Associate     | Bachelors or Equivalent | None | ⋯ | N/A (no overtime/salaried) | 9500 | Not Applicable/None | 15000 | NULL | 9% 401k match | NULL | Have not been long enough to have an annual yearly raise | NA | NA         |\n",
       "| 2023-03-29 01:14:36 | USA                      | Washington DC  | Medical Devices                         | Senseonics        | Public   | 50-200    | Sr Scientist                  | PhD or Equivalent       | None | ⋯ | N/A (no overtime/salaried) | 12750 | Not Applicable/None |    NA | RSU and Options | 401k match up to 4% | PPO | 0.045 | NA | V positive |\n",
       "| 2023-03-29 01:09:43 | United States            | Seattle        | Pharmaceutical (including “big pharma”) | Prefer not to say | Public   | 1000-5000 | Senior Quality Manager        | Bachelors or Equivalent | ASQ  | ⋯ | N/A (no overtime/salaried) | 25000 | 30000 |    NA | NULL | NULL | NULL | 4 | NA | NA         |\n",
       "| 2023-03-29 01:02:04 | USA                      | Washington, DC | Pharmaceutical (including “big pharma”) | Prefer not to say | Public   | 200-1000  | Clinical Research Manager     | PhD or Equivalent       | None | ⋯ | N/A (no overtime/salaried) | 11500 | Not Applicable/None |    NA | NULL | 401K 4% match | NULL | Have not been long enough to have an annual yearly raise | NA | NA         |\n",
       "| 2023-03-29 00:42:48 | United States of America | San Diego      | Pharmaceutical (including “big pharma”) | Prefer not to say | Start-up | 1-50      | Process Development Associate | Bachelors or Equivalent | None | ⋯ | N/A (no overtime/salaried) | 10000 | Not Applicable/None |  8000 | N/A - not public yet | N/A | Healthcare premiums are covered 100% | Have not been long enough to have an annual yearly raise | NA | NA         |\n",
       "| 2023-03-29 00:41:11 | USA                      | Bay Area       | Pharmaceutical (including “big pharma”) | Prefer not to say | Public   | 5000+     | Research Scientist            | PhD or Equivalent       | None | ⋯ | N/A (no overtime/salaried) | 25000 | Not Applicable/None |    NA | NULL | NULL | NULL | Have not been long enough to have an annual yearly raise | NA | NA         |\n",
       "\n"
      ],
      "text/plain": [
       "  Timestamp           What country do you work in?\n",
       "1 2023-03-29 01:16:54 USA                         \n",
       "2 2023-03-29 01:14:36 USA                         \n",
       "3 2023-03-29 01:09:43 United States               \n",
       "4 2023-03-29 01:02:04 USA                         \n",
       "5 2023-03-29 00:42:48 United States of America    \n",
       "6 2023-03-29 00:41:11 USA                         \n",
       "  Where is the closest major city or hub?\n",
       "1 Boston                                 \n",
       "2 Washington DC                          \n",
       "3 Seattle                                \n",
       "4 Washington, DC                         \n",
       "5 San Diego                              \n",
       "6 Bay Area                               \n",
       "  Biotech sub industry?                   Company or Institution Name\n",
       "1 Pharmaceutical (including “big pharma”) Sanofi                     \n",
       "2 Medical Devices                         Senseonics                 \n",
       "3 Pharmaceutical (including “big pharma”) Prefer not to say          \n",
       "4 Pharmaceutical (including “big pharma”) Prefer not to say          \n",
       "5 Pharmaceutical (including “big pharma”) Prefer not to say          \n",
       "6 Pharmaceutical (including “big pharma”) Prefer not to say          \n",
       "  Company Details - public/private/start-up/ subsidiary of\n",
       "1 Public                                                  \n",
       "2 Public                                                  \n",
       "3 Public                                                  \n",
       "4 Public                                                  \n",
       "5 Start-up                                                \n",
       "6 Public                                                  \n",
       "  Company Detail - Approximate Company Size Role / Title of current position\n",
       "1 5000+                                     Senior Research Associate       \n",
       "2 50-200                                    Sr Scientist                    \n",
       "3 1000-5000                                 Senior Quality Manager          \n",
       "4 200-1000                                  Clinical Research Manager       \n",
       "5 1-50                                      Process Development Associate   \n",
       "6 5000+                                     Research Scientist              \n",
       "  Highest achieved Formal Education\n",
       "1 Bachelors or Equivalent          \n",
       "2 PhD or Equivalent                \n",
       "3 Bachelors or Equivalent          \n",
       "4 PhD or Equivalent                \n",
       "5 Bachelors or Equivalent          \n",
       "6 PhD or Equivalent                \n",
       "  List other relevant and recognized certifications ⋯\n",
       "1 None                                              ⋯\n",
       "2 None                                              ⋯\n",
       "3 ASQ                                               ⋯\n",
       "4 None                                              ⋯\n",
       "5 None                                              ⋯\n",
       "6 None                                              ⋯\n",
       "  Compensation - Overtime Pay Compensation - Annual Target Bonus ($)\n",
       "1 N/A (no overtime/salaried)  9500                                  \n",
       "2 N/A (no overtime/salaried)  12750                                 \n",
       "3 N/A (no overtime/salaried)  25000                                 \n",
       "4 N/A (no overtime/salaried)  11500                                 \n",
       "5 N/A (no overtime/salaried)  10000                                 \n",
       "6 N/A (no overtime/salaried)  25000                                 \n",
       "  Compensation - Annual Equity Compensation - Sign on Bonus Value\n",
       "1 Not Applicable/None          15000                             \n",
       "2 Not Applicable/None             NA                             \n",
       "3 30000                           NA                             \n",
       "4 Not Applicable/None             NA                             \n",
       "5 Not Applicable/None           8000                             \n",
       "6 Not Applicable/None             NA                             \n",
       "  Compensation - Stock Options Compensation - Retirement Benefits (free text)\n",
       "1 NULL                         9% 401k match                                 \n",
       "2 RSU and Options              401k match up to 4%                           \n",
       "3 NULL                         NULL                                          \n",
       "4 NULL                         401K 4% match                                 \n",
       "5 N/A - not public yet         N/A                                           \n",
       "6 NULL                         NULL                                          \n",
       "  Compensation - Healthcare Benefits (free text)\n",
       "1 NULL                                          \n",
       "2 PPO                                           \n",
       "3 NULL                                          \n",
       "4 NULL                                          \n",
       "5 Healthcare premiums are covered 100%          \n",
       "6 NULL                                          \n",
       "  Compensation - Most recent annual yearly raise (%)      \n",
       "1 Have not been long enough to have an annual yearly raise\n",
       "2 0.045                                                   \n",
       "3 4                                                       \n",
       "4 Have not been long enough to have an annual yearly raise\n",
       "5 Have not been long enough to have an annual yearly raise\n",
       "6 Have not been long enough to have an annual yearly raise\n",
       "  [OPTIONAL] Sign on - Relocation Assistance Total Value\n",
       "1 NA                                                    \n",
       "2 NA                                                    \n",
       "3 NA                                                    \n",
       "4 NA                                                    \n",
       "5 NA                                                    \n",
       "6 NA                                                    \n",
       "  [Optional] Company Review\n",
       "1 NA                       \n",
       "2 V positive               \n",
       "3 NA                       \n",
       "4 NA                       \n",
       "5 NA                       \n",
       "6 NA                       "
      ]
     },
     "metadata": {},
     "output_type": "display_data"
    }
   ],
   "source": [
    "gs4_deauth()\n",
    "\n",
    "money=read_sheet(\"https://docs.google.com/spreadsheets/d/1G0FmJhkOME_sv66hWmhnZS5qR2KMTY7nzkxksv46bfk/edit#gid=453658888\") |>\n",
    "    mutate (`Years of Experience` = as.integer(`Years of Experience`)) |>\n",
    "    filter(!is.na(`Years of Experience`))\n",
    "money %>% head()"
   ]
  },
  {
   "cell_type": "markdown",
   "id": "1d7c4ba1-cc95-4f5c-8339-1d50940e6aeb",
   "metadata": {},
   "source": [
    "📈 Make a chart that shows the relationship between `Years of Experience` and `Compensation - Annual Base Salary/Pay`.\n",
    "\n",
    "❗️ Remember that you need to use backticks to access columns whose names have spaces:\n",
    "\n",
    "```\n",
    "`Years of Experience`\n",
    "```"
   ]
  },
  {
   "cell_type": "code",
   "execution_count": 35,
   "id": "248678ad-bf55-45e2-939b-d5551bcde67d",
   "metadata": {
    "tags": []
   },
   "outputs": [
    {
     "data": {
      "image/png": "[encoded data removed]",
      "text/plain": [
       "plot without title"
      ]
     },
     "metadata": {
      "image/png": {
       "height": 420,
       "width": 420
      }
     },
     "output_type": "display_data"
    }
   ],
   "source": [
    "p = ggplot(money, aes(x = `Years of Experience`, y = `Compensation - Annual Base Salary/Pay`)) +\n",
    "    geom_point()\n",
    "\n",
    "p"
   ]
  },
  {
   "cell_type": "markdown",
   "id": "af5db6f0-8a3e-4d31-a1ea-c97f75231ca4",
   "metadata": {},
   "source": [
    "📊 Count the number of respondents that belong to each `Highest achieved Formal Education` category. You can do this visually with `geom_bar` or in table form with `dplyr`..."
   ]
  },
  {
   "cell_type": "code",
   "execution_count": 38,
   "id": "34b3b309-4e1d-4f5e-9cdd-fff29067e81f",
   "metadata": {
    "tags": []
   },
   "outputs": [
    {
     "data": {
      "text/html": [
       "<table class=\"dataframe\">\n",
       "<caption>A tibble: 6 × 2</caption>\n",
       "<thead>\n",
       "\t<tr><th scope=col>Highest achieved Formal Education</th><th scope=col>n</th></tr>\n",
       "\t<tr><th scope=col>&lt;chr&gt;</th><th scope=col>&lt;int&gt;</th></tr>\n",
       "</thead>\n",
       "<tbody>\n",
       "\t<tr><td>Associate’s Degree or Equivalent</td><td>  6</td></tr>\n",
       "\t<tr><td>Bachelors or Equivalent         </td><td>244</td></tr>\n",
       "\t<tr><td>High School or Equivalent       </td><td>  1</td></tr>\n",
       "\t<tr><td>M.D./PharmD/D.D.S. or Equivalent</td><td>  9</td></tr>\n",
       "\t<tr><td>Masters or Equivalent           </td><td>136</td></tr>\n",
       "\t<tr><td>PhD or Equivalent               </td><td>190</td></tr>\n",
       "</tbody>\n",
       "</table>\n"
      ],
      "text/latex": [
       "A tibble: 6 × 2\n",
       "\\begin{tabular}{ll}\n",
       " Highest achieved Formal Education & n\\\\\n",
       " <chr> & <int>\\\\\n",
       "\\hline\n",
       "\t Associate’s Degree or Equivalent &   6\\\\\n",
       "\t Bachelors or Equivalent          & 244\\\\\n",
       "\t High School or Equivalent        &   1\\\\\n",
       "\t M.D./PharmD/D.D.S. or Equivalent &   9\\\\\n",
       "\t Masters or Equivalent            & 136\\\\\n",
       "\t PhD or Equivalent                & 190\\\\\n",
       "\\end{tabular}\n"
      ],
      "text/markdown": [
       "\n",
       "A tibble: 6 × 2\n",
       "\n",
       "| Highest achieved Formal Education &lt;chr&gt; | n &lt;int&gt; |\n",
       "|---|---|\n",
       "| Associate’s Degree or Equivalent |   6 |\n",
       "| Bachelors or Equivalent          | 244 |\n",
       "| High School or Equivalent        |   1 |\n",
       "| M.D./PharmD/D.D.S. or Equivalent |   9 |\n",
       "| Masters or Equivalent            | 136 |\n",
       "| PhD or Equivalent                | 190 |\n",
       "\n"
      ],
      "text/plain": [
       "  Highest achieved Formal Education n  \n",
       "1 Associate’s Degree or Equivalent    6\n",
       "2 Bachelors or Equivalent           244\n",
       "3 High School or Equivalent           1\n",
       "4 M.D./PharmD/D.D.S. or Equivalent    9\n",
       "5 Masters or Equivalent             136\n",
       "6 PhD or Equivalent                 190"
      ]
     },
     "metadata": {},
     "output_type": "display_data"
    }
   ],
   "source": [
    "money |>\n",
    "    group_by(`Highest achieved Formal Education`) |>\n",
    "    summarize(n=n())"
   ]
  },
  {
   "cell_type": "code",
   "execution_count": 37,
   "id": "9710ebb9-cf9f-402a-95bc-7f0c709ba74a",
   "metadata": {
    "tags": []
   },
   "outputs": [
    {
     "data": {
      "text/html": [
       "<table class=\"dataframe\">\n",
       "<caption>A tibble: 6 × 2</caption>\n",
       "<thead>\n",
       "\t<tr><th scope=col>Highest achieved Formal Education</th><th scope=col>n</th></tr>\n",
       "\t<tr><th scope=col>&lt;chr&gt;</th><th scope=col>&lt;int&gt;</th></tr>\n",
       "</thead>\n",
       "<tbody>\n",
       "\t<tr><td>Associate’s Degree or Equivalent</td><td>  6</td></tr>\n",
       "\t<tr><td>Bachelors or Equivalent         </td><td>244</td></tr>\n",
       "\t<tr><td>High School or Equivalent       </td><td>  1</td></tr>\n",
       "\t<tr><td>M.D./PharmD/D.D.S. or Equivalent</td><td>  9</td></tr>\n",
       "\t<tr><td>Masters or Equivalent           </td><td>136</td></tr>\n",
       "\t<tr><td>PhD or Equivalent               </td><td>190</td></tr>\n",
       "</tbody>\n",
       "</table>\n"
      ],
      "text/latex": [
       "A tibble: 6 × 2\n",
       "\\begin{tabular}{ll}\n",
       " Highest achieved Formal Education & n\\\\\n",
       " <chr> & <int>\\\\\n",
       "\\hline\n",
       "\t Associate’s Degree or Equivalent &   6\\\\\n",
       "\t Bachelors or Equivalent          & 244\\\\\n",
       "\t High School or Equivalent        &   1\\\\\n",
       "\t M.D./PharmD/D.D.S. or Equivalent &   9\\\\\n",
       "\t Masters or Equivalent            & 136\\\\\n",
       "\t PhD or Equivalent                & 190\\\\\n",
       "\\end{tabular}\n"
      ],
      "text/markdown": [
       "\n",
       "A tibble: 6 × 2\n",
       "\n",
       "| Highest achieved Formal Education &lt;chr&gt; | n &lt;int&gt; |\n",
       "|---|---|\n",
       "| Associate’s Degree or Equivalent |   6 |\n",
       "| Bachelors or Equivalent          | 244 |\n",
       "| High School or Equivalent        |   1 |\n",
       "| M.D./PharmD/D.D.S. or Equivalent |   9 |\n",
       "| Masters or Equivalent            | 136 |\n",
       "| PhD or Equivalent                | 190 |\n",
       "\n"
      ],
      "text/plain": [
       "  Highest achieved Formal Education n  \n",
       "1 Associate’s Degree or Equivalent    6\n",
       "2 Bachelors or Equivalent           244\n",
       "3 High School or Equivalent           1\n",
       "4 M.D./PharmD/D.D.S. or Equivalent    9\n",
       "5 Masters or Equivalent             136\n",
       "6 PhD or Equivalent                 190"
      ]
     },
     "metadata": {},
     "output_type": "display_data"
    }
   ],
   "source": [
    "library(dplyr)\n",
    "\n",
    "counts_table = money %>%\n",
    "    count(`Highest achieved Formal Education`)\n",
    "\n",
    "counts_table %>% head()\n"
   ]
  },
  {
   "cell_type": "markdown",
   "id": "91d200b9-4817-41c4-ade8-9882536c66e3",
   "metadata": {},
   "source": [
    "📊 Make a histogram of `Compensation - Annual Base Salary/Pay` for respondents in the `Bachelors or Equivalent` group from the `Highest achieved Formal Education` column.,"
   ]
  },
  {
   "cell_type": "code",
   "execution_count": 44,
   "id": "043d8e2e-faad-469f-beb2-97e420ee4d07",
   "metadata": {
    "tags": []
   },
   "outputs": [
    {
     "data": {
      "text/html": [
       "<table class=\"dataframe\">\n",
       "<caption>A tibble: 6 × 23</caption>\n",
       "<thead>\n",
       "\t<tr><th scope=col>Timestamp</th><th scope=col>What country do you work in?</th><th scope=col>Where is the closest major city or hub?</th><th scope=col>Biotech sub industry?</th><th scope=col>Company or Institution Name</th><th scope=col>Company Details - public/private/start-up/ subsidiary of</th><th scope=col>Company Detail - Approximate Company Size</th><th scope=col>Role / Title of current position</th><th scope=col>Highest achieved Formal Education</th><th scope=col>List other relevant and recognized certifications</th><th scope=col>⋯</th><th scope=col>Compensation - Overtime Pay</th><th scope=col>Compensation - Annual Target Bonus ($)</th><th scope=col>Compensation - Annual Equity</th><th scope=col>Compensation - Sign on Bonus Value</th><th scope=col>Compensation - Stock Options</th><th scope=col>Compensation - Retirement Benefits (free text)</th><th scope=col>Compensation - Healthcare Benefits (free text)</th><th scope=col>Compensation - Most recent annual yearly raise (%)</th><th scope=col>[OPTIONAL] Sign on - Relocation Assistance Total Value</th><th scope=col>[Optional] Company Review</th></tr>\n",
       "\t<tr><th scope=col>&lt;dttm&gt;</th><th scope=col>&lt;chr&gt;</th><th scope=col>&lt;chr&gt;</th><th scope=col>&lt;chr&gt;</th><th scope=col>&lt;chr&gt;</th><th scope=col>&lt;chr&gt;</th><th scope=col>&lt;chr&gt;</th><th scope=col>&lt;chr&gt;</th><th scope=col>&lt;chr&gt;</th><th scope=col>&lt;chr&gt;</th><th scope=col>⋯</th><th scope=col>&lt;list&gt;</th><th scope=col>&lt;list&gt;</th><th scope=col>&lt;list&gt;</th><th scope=col>&lt;dbl&gt;</th><th scope=col>&lt;list&gt;</th><th scope=col>&lt;list&gt;</th><th scope=col>&lt;list&gt;</th><th scope=col>&lt;list&gt;</th><th scope=col>&lt;dbl&gt;</th><th scope=col>&lt;chr&gt;</th></tr>\n",
       "</thead>\n",
       "<tbody>\n",
       "\t<tr><td>2023-03-29 01:16:54</td><td>USA                     </td><td>Boston   </td><td>Pharmaceutical (including “big pharma”)</td><td>Sanofi           </td><td>Public  </td><td>5000+    </td><td>Senior Research Associate    </td><td>Bachelors or Equivalent</td><td>None</td><td>⋯</td><td>N/A (no overtime/salaried)</td><td>9500</td><td>Not Applicable/None</td><td>15000</td><td>NULL</td><td>9% 401k match</td><td>NULL</td><td>Have not been long enough to have an annual yearly raise</td><td>NA</td><td>NA</td></tr>\n",
       "\t<tr><td>2023-03-29 01:09:43</td><td>United States           </td><td>Seattle  </td><td>Pharmaceutical (including “big pharma”)</td><td>Prefer not to say</td><td>Public  </td><td>1000-5000</td><td>Senior Quality Manager       </td><td>Bachelors or Equivalent</td><td>ASQ </td><td>⋯</td><td>N/A (no overtime/salaried)</td><td>25000</td><td>30000</td><td>   NA</td><td>NULL</td><td>NULL</td><td>NULL</td><td>4</td><td>NA</td><td>NA</td></tr>\n",
       "\t<tr><td>2023-03-29 00:42:48</td><td>United States of America</td><td>San Diego</td><td>Pharmaceutical (including “big pharma”)</td><td>Prefer not to say</td><td>Start-up</td><td>1-50     </td><td>Process Development Associate</td><td>Bachelors or Equivalent</td><td>None</td><td>⋯</td><td>N/A (no overtime/salaried)</td><td>10000</td><td>Not Applicable/None</td><td> 8000</td><td>N/A - not public yet</td><td>N/A</td><td>Healthcare premiums are covered 100%</td><td>Have not been long enough to have an annual yearly raise</td><td>NA</td><td>NA</td></tr>\n",
       "\t<tr><td>2023-03-29 01:24:41</td><td>US                      </td><td>DMV      </td><td>Industrial Biotech                     </td><td>Prefer not to say</td><td>Public  </td><td>1000-5000</td><td>Senior Associate Scientist   </td><td>Bachelors or Equivalent</td><td>None</td><td>⋯</td><td>N/A (no overtime/salaried)</td><td>0.15</td><td>0.05</td><td>    0</td><td>34000</td><td>4.5% 401k match no vest period</td><td>FSA/HSA, Good benefits. Out of pocket is 0, total care cost is $176/mo.</td><td>0.045</td><td> 0</td><td>NA</td></tr>\n",
       "\t<tr><td>2023-03-29 02:17:50</td><td>United States of America</td><td>San Diego</td><td>Software                               </td><td>Prefer not to say</td><td>Start-up</td><td>1-50     </td><td>Bioinformatics Scientist     </td><td>Bachelors or Equivalent</td><td>None</td><td>⋯</td><td>N/A (no overtime/salaried)</td><td>Not Applicable/None</td><td>Not Applicable/None</td><td>   NA</td><td>NULL</td><td>NULL</td><td>NULL</td><td>Company/Institution does not have annual yearly raise</td><td>NA</td><td>NA</td></tr>\n",
       "\t<tr><td>2023-03-29 02:18:28</td><td>United States           </td><td>San Diego</td><td>Pharmaceutical (including “big pharma”)</td><td>Prefer not to say</td><td>Public  </td><td>200-1000 </td><td>Research Associate I         </td><td>Bachelors or Equivalent</td><td>None</td><td>⋯</td><td>N/A (no overtime/salaried)</td><td>6840</td><td>5000</td><td>11000</td><td>NULL</td><td>5% 401k match</td><td>NULL</td><td>Have not been long enough to have an annual yearly raise</td><td>NA</td><td>NA</td></tr>\n",
       "</tbody>\n",
       "</table>\n"
      ],
      "text/latex": [
       "A tibble: 6 × 23\n",
       "\\begin{tabular}{lllllllllllllllllllll}\n",
       " Timestamp & What country do you work in? & Where is the closest major city or hub? & Biotech sub industry? & Company or Institution Name & Company Details - public/private/start-up/ subsidiary of & Company Detail - Approximate Company Size & Role / Title of current position & Highest achieved Formal Education & List other relevant and recognized certifications & ⋯ & Compensation - Overtime Pay & Compensation - Annual Target Bonus (\\$) & Compensation - Annual Equity & Compensation - Sign on Bonus Value & Compensation - Stock Options & Compensation - Retirement Benefits (free text) & Compensation - Healthcare Benefits (free text) & Compensation - Most recent annual yearly raise (\\%) & {[}OPTIONAL{]} Sign on - Relocation Assistance Total Value & {[}Optional{]} Company Review\\\\\n",
       " <dttm> & <chr> & <chr> & <chr> & <chr> & <chr> & <chr> & <chr> & <chr> & <chr> & ⋯ & <list> & <list> & <list> & <dbl> & <list> & <list> & <list> & <list> & <dbl> & <chr>\\\\\n",
       "\\hline\n",
       "\t 2023-03-29 01:16:54 & USA                      & Boston    & Pharmaceutical (including “big pharma”) & Sanofi            & Public   & 5000+     & Senior Research Associate     & Bachelors or Equivalent & None & ⋯ & N/A (no overtime/salaried) & 9500 & Not Applicable/None & 15000 & NULL & 9\\% 401k match & NULL & Have not been long enough to have an annual yearly raise & NA & NA\\\\\n",
       "\t 2023-03-29 01:09:43 & United States            & Seattle   & Pharmaceutical (including “big pharma”) & Prefer not to say & Public   & 1000-5000 & Senior Quality Manager        & Bachelors or Equivalent & ASQ  & ⋯ & N/A (no overtime/salaried) & 25000 & 30000 &    NA & NULL & NULL & NULL & 4 & NA & NA\\\\\n",
       "\t 2023-03-29 00:42:48 & United States of America & San Diego & Pharmaceutical (including “big pharma”) & Prefer not to say & Start-up & 1-50      & Process Development Associate & Bachelors or Equivalent & None & ⋯ & N/A (no overtime/salaried) & 10000 & Not Applicable/None &  8000 & N/A - not public yet & N/A & Healthcare premiums are covered 100\\% & Have not been long enough to have an annual yearly raise & NA & NA\\\\\n",
       "\t 2023-03-29 01:24:41 & US                       & DMV       & Industrial Biotech                      & Prefer not to say & Public   & 1000-5000 & Senior Associate Scientist    & Bachelors or Equivalent & None & ⋯ & N/A (no overtime/salaried) & 0.15 & 0.05 &     0 & 34000 & 4.5\\% 401k match no vest period & FSA/HSA, Good benefits. Out of pocket is 0, total care cost is \\$176/mo. & 0.045 &  0 & NA\\\\\n",
       "\t 2023-03-29 02:17:50 & United States of America & San Diego & Software                                & Prefer not to say & Start-up & 1-50      & Bioinformatics Scientist      & Bachelors or Equivalent & None & ⋯ & N/A (no overtime/salaried) & Not Applicable/None & Not Applicable/None &    NA & NULL & NULL & NULL & Company/Institution does not have annual yearly raise & NA & NA\\\\\n",
       "\t 2023-03-29 02:18:28 & United States            & San Diego & Pharmaceutical (including “big pharma”) & Prefer not to say & Public   & 200-1000  & Research Associate I          & Bachelors or Equivalent & None & ⋯ & N/A (no overtime/salaried) & 6840 & 5000 & 11000 & NULL & 5\\% 401k match & NULL & Have not been long enough to have an annual yearly raise & NA & NA\\\\\n",
       "\\end{tabular}\n"
      ],
      "text/markdown": [
       "\n",
       "A tibble: 6 × 23\n",
       "\n",
       "| Timestamp &lt;dttm&gt; | What country do you work in? &lt;chr&gt; | Where is the closest major city or hub? &lt;chr&gt; | Biotech sub industry? &lt;chr&gt; | Company or Institution Name &lt;chr&gt; | Company Details - public/private/start-up/ subsidiary of &lt;chr&gt; | Company Detail - Approximate Company Size &lt;chr&gt; | Role / Title of current position &lt;chr&gt; | Highest achieved Formal Education &lt;chr&gt; | List other relevant and recognized certifications &lt;chr&gt; | ⋯ ⋯ | Compensation - Overtime Pay &lt;list&gt; | Compensation - Annual Target Bonus ($) &lt;list&gt; | Compensation - Annual Equity &lt;list&gt; | Compensation - Sign on Bonus Value &lt;dbl&gt; | Compensation - Stock Options &lt;list&gt; | Compensation - Retirement Benefits (free text) &lt;list&gt; | Compensation - Healthcare Benefits (free text) &lt;list&gt; | Compensation - Most recent annual yearly raise (%) &lt;list&gt; | [OPTIONAL] Sign on - Relocation Assistance Total Value &lt;dbl&gt; | [Optional] Company Review &lt;chr&gt; |\n",
       "|---|---|---|---|---|---|---|---|---|---|---|---|---|---|---|---|---|---|---|---|---|\n",
       "| 2023-03-29 01:16:54 | USA                      | Boston    | Pharmaceutical (including “big pharma”) | Sanofi            | Public   | 5000+     | Senior Research Associate     | Bachelors or Equivalent | None | ⋯ | N/A (no overtime/salaried) | 9500 | Not Applicable/None | 15000 | NULL | 9% 401k match | NULL | Have not been long enough to have an annual yearly raise | NA | NA |\n",
       "| 2023-03-29 01:09:43 | United States            | Seattle   | Pharmaceutical (including “big pharma”) | Prefer not to say | Public   | 1000-5000 | Senior Quality Manager        | Bachelors or Equivalent | ASQ  | ⋯ | N/A (no overtime/salaried) | 25000 | 30000 |    NA | NULL | NULL | NULL | 4 | NA | NA |\n",
       "| 2023-03-29 00:42:48 | United States of America | San Diego | Pharmaceutical (including “big pharma”) | Prefer not to say | Start-up | 1-50      | Process Development Associate | Bachelors or Equivalent | None | ⋯ | N/A (no overtime/salaried) | 10000 | Not Applicable/None |  8000 | N/A - not public yet | N/A | Healthcare premiums are covered 100% | Have not been long enough to have an annual yearly raise | NA | NA |\n",
       "| 2023-03-29 01:24:41 | US                       | DMV       | Industrial Biotech                      | Prefer not to say | Public   | 1000-5000 | Senior Associate Scientist    | Bachelors or Equivalent | None | ⋯ | N/A (no overtime/salaried) | 0.15 | 0.05 |     0 | 34000 | 4.5% 401k match no vest period | FSA/HSA, Good benefits. Out of pocket is 0, total care cost is $176/mo. | 0.045 |  0 | NA |\n",
       "| 2023-03-29 02:17:50 | United States of America | San Diego | Software                                | Prefer not to say | Start-up | 1-50      | Bioinformatics Scientist      | Bachelors or Equivalent | None | ⋯ | N/A (no overtime/salaried) | Not Applicable/None | Not Applicable/None |    NA | NULL | NULL | NULL | Company/Institution does not have annual yearly raise | NA | NA |\n",
       "| 2023-03-29 02:18:28 | United States            | San Diego | Pharmaceutical (including “big pharma”) | Prefer not to say | Public   | 200-1000  | Research Associate I          | Bachelors or Equivalent | None | ⋯ | N/A (no overtime/salaried) | 6840 | 5000 | 11000 | NULL | 5% 401k match | NULL | Have not been long enough to have an annual yearly raise | NA | NA |\n",
       "\n"
      ],
      "text/plain": [
       "  Timestamp           What country do you work in?\n",
       "1 2023-03-29 01:16:54 USA                         \n",
       "2 2023-03-29 01:09:43 United States               \n",
       "3 2023-03-29 00:42:48 United States of America    \n",
       "4 2023-03-29 01:24:41 US                          \n",
       "5 2023-03-29 02:17:50 United States of America    \n",
       "6 2023-03-29 02:18:28 United States               \n",
       "  Where is the closest major city or hub?\n",
       "1 Boston                                 \n",
       "2 Seattle                                \n",
       "3 San Diego                              \n",
       "4 DMV                                    \n",
       "5 San Diego                              \n",
       "6 San Diego                              \n",
       "  Biotech sub industry?                   Company or Institution Name\n",
       "1 Pharmaceutical (including “big pharma”) Sanofi                     \n",
       "2 Pharmaceutical (including “big pharma”) Prefer not to say          \n",
       "3 Pharmaceutical (including “big pharma”) Prefer not to say          \n",
       "4 Industrial Biotech                      Prefer not to say          \n",
       "5 Software                                Prefer not to say          \n",
       "6 Pharmaceutical (including “big pharma”) Prefer not to say          \n",
       "  Company Details - public/private/start-up/ subsidiary of\n",
       "1 Public                                                  \n",
       "2 Public                                                  \n",
       "3 Start-up                                                \n",
       "4 Public                                                  \n",
       "5 Start-up                                                \n",
       "6 Public                                                  \n",
       "  Company Detail - Approximate Company Size Role / Title of current position\n",
       "1 5000+                                     Senior Research Associate       \n",
       "2 1000-5000                                 Senior Quality Manager          \n",
       "3 1-50                                      Process Development Associate   \n",
       "4 1000-5000                                 Senior Associate Scientist      \n",
       "5 1-50                                      Bioinformatics Scientist        \n",
       "6 200-1000                                  Research Associate I            \n",
       "  Highest achieved Formal Education\n",
       "1 Bachelors or Equivalent          \n",
       "2 Bachelors or Equivalent          \n",
       "3 Bachelors or Equivalent          \n",
       "4 Bachelors or Equivalent          \n",
       "5 Bachelors or Equivalent          \n",
       "6 Bachelors or Equivalent          \n",
       "  List other relevant and recognized certifications ⋯\n",
       "1 None                                              ⋯\n",
       "2 ASQ                                               ⋯\n",
       "3 None                                              ⋯\n",
       "4 None                                              ⋯\n",
       "5 None                                              ⋯\n",
       "6 None                                              ⋯\n",
       "  Compensation - Overtime Pay Compensation - Annual Target Bonus ($)\n",
       "1 N/A (no overtime/salaried)  9500                                  \n",
       "2 N/A (no overtime/salaried)  25000                                 \n",
       "3 N/A (no overtime/salaried)  10000                                 \n",
       "4 N/A (no overtime/salaried)  0.15                                  \n",
       "5 N/A (no overtime/salaried)  Not Applicable/None                   \n",
       "6 N/A (no overtime/salaried)  6840                                  \n",
       "  Compensation - Annual Equity Compensation - Sign on Bonus Value\n",
       "1 Not Applicable/None          15000                             \n",
       "2 30000                           NA                             \n",
       "3 Not Applicable/None           8000                             \n",
       "4 0.05                             0                             \n",
       "5 Not Applicable/None             NA                             \n",
       "6 5000                         11000                             \n",
       "  Compensation - Stock Options Compensation - Retirement Benefits (free text)\n",
       "1 NULL                         9% 401k match                                 \n",
       "2 NULL                         NULL                                          \n",
       "3 N/A - not public yet         N/A                                           \n",
       "4 34000                        4.5% 401k match no vest period                \n",
       "5 NULL                         NULL                                          \n",
       "6 NULL                         5% 401k match                                 \n",
       "  Compensation - Healthcare Benefits (free text)                         \n",
       "1 NULL                                                                   \n",
       "2 NULL                                                                   \n",
       "3 Healthcare premiums are covered 100%                                   \n",
       "4 FSA/HSA, Good benefits. Out of pocket is 0, total care cost is $176/mo.\n",
       "5 NULL                                                                   \n",
       "6 NULL                                                                   \n",
       "  Compensation - Most recent annual yearly raise (%)      \n",
       "1 Have not been long enough to have an annual yearly raise\n",
       "2 4                                                       \n",
       "3 Have not been long enough to have an annual yearly raise\n",
       "4 0.045                                                   \n",
       "5 Company/Institution does not have annual yearly raise   \n",
       "6 Have not been long enough to have an annual yearly raise\n",
       "  [OPTIONAL] Sign on - Relocation Assistance Total Value\n",
       "1 NA                                                    \n",
       "2 NA                                                    \n",
       "3 NA                                                    \n",
       "4  0                                                    \n",
       "5 NA                                                    \n",
       "6 NA                                                    \n",
       "  [Optional] Company Review\n",
       "1 NA                       \n",
       "2 NA                       \n",
       "3 NA                       \n",
       "4 NA                       \n",
       "5 NA                       \n",
       "6 NA                       "
      ]
     },
     "metadata": {},
     "output_type": "display_data"
    }
   ],
   "source": [
    "bachelorsdegree_money = money |>\n",
    "    filter(`Highest achieved Formal Education` == \"Bachelors or Equivalent\")\n",
    "\n",
    "bachelorsdegree_money %>% head()"
   ]
  },
  {
   "cell_type": "code",
   "execution_count": 55,
   "id": "aae8731f-4f7f-46cf-a899-cfddfe075f1b",
   "metadata": {
    "tags": []
   },
   "outputs": [
    {
     "data": {
      "image/png": "[encoded data removed]",
      "text/plain": [
       "plot without title"
      ]
     },
     "metadata": {
      "image/png": {
       "height": 420,
       "width": 420
      }
     },
     "output_type": "display_data"
    }
   ],
   "source": [
    "p = ggplot(bachelorsdegree_money, aes(x = `Compensation - Annual Base Salary/Pay`)) +\n",
    "    geom_histogram(binwidth = 1500)\n",
    "\n",
    "p"
   ]
  },
  {
   "cell_type": "code",
   "execution_count": null,
   "id": "c2649769-c030-4e12-ac49-e8ed38ace838",
   "metadata": {},
   "outputs": [],
   "source": []
  }
 ],
 "metadata": {
  "kernelspec": {
   "display_name": "bios512:R",
   "language": "R",
   "name": "conda-env-bios512-r"
  },
  "language_info": {
   "codemirror_mode": "r",
   "file_extension": ".r",
   "mimetype": "text/x-r-source",
   "name": "R",
   "pygments_lexer": "r",
   "version": "4.3.1"
  }
 },
 "nbformat": 4,
 "nbformat_minor": 5
}
